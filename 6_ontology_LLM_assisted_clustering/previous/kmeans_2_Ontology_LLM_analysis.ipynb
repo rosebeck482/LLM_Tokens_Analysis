{
 "cells": [
  {
   "cell_type": "markdown",
   "metadata": {
    "id": "Gr0NEF-WIhKm"
   },
   "source": [
    "# Dataset obtained from:\n",
    "\n",
    "https://www.mammaldiversity.org/\n"
   ]
  },
  {
   "cell_type": "markdown",
   "metadata": {
    "id": "W8r61HDvImRB"
   },
   "source": [
    "# How to build the hierarchy or the knowledge graph?"
   ]
  },
  {
   "cell_type": "markdown",
   "metadata": {
    "id": "9fcVg06IJIp1"
   },
   "source": [
    "## Extract only the major ranks from the dataset: (Common Name, species, genus, family, order, subclass)"
   ]
  },
  {
   "cell_type": "code",
   "execution_count": null,
   "metadata": {
    "id": "i1ID5rdsIjyL"
   },
   "outputs": [],
   "source": [
    "import pandas as pd\n",
    "\n",
    "df = pd.read_csv(\"/content/species.csv\")\n",
    "\n",
    "# columns to keep\n",
    "keep = [\n",
    "    \"mainCommonName\",\n",
    "    \"sciName\",\n",
    "    \"genus\",\n",
    "    \"family\",\n",
    "    \"order\",\n",
    "    \"subclass\"\n",
    "]\n",
    "\n",
    "# rename columns\n",
    "df_small = (\n",
    "    df[keep]\n",
    "      .drop_duplicates()\n",
    "      .reset_index(drop=True)\n",
    "      .rename(columns={\n",
    "          \"mainCommonName\": \"CommonName\",\n",
    "          \"sciName\": \"Species\",\n",
    "          \"genus\": \"Genus\",\n",
    "          \"family\": \"Family\",\n",
    "          \"order\": \"Order\",\n",
    "          \"subclass\": \"Subclass\",\n",
    "      })\n",
    ")\n",
    "\n",
    "# save\n",
    "df_small.to_csv(\"/content/mammal_major_ranks.csv\", index=False)\n"
   ]
  },
  {
   "cell_type": "code",
   "execution_count": null,
   "metadata": {
    "colab": {
     "base_uri": "https://localhost:8080/"
    },
    "id": "oFHhzR6tKS6E",
    "outputId": "37bf52fb-4476-4d13-be2c-755f5b529728"
   },
   "outputs": [
    {
     "name": "stdout",
     "output_type": "stream",
     "text": [
      "                              CommonName                   Species  \\\n",
      "0                               Platypus  Ornithorhynchus_anatinus   \n",
      "1                   Short-beaked Echidna    Tachyglossus_aculeatus   \n",
      "2     Attenborough's Long-beaked Echidna   Zaglossus_attenboroughi   \n",
      "3            Eastern Long-beaked Echidna         Zaglossus_bartoni   \n",
      "4            Western Long-beaked Echidna        Zaglossus_bruijnii   \n",
      "...                                  ...                       ...   \n",
      "6796                  Pygmy Beaked Whale     Mesoplodon_peruvianus   \n",
      "6797            Stejneger's Beaked Whale     Mesoplodon_stejnegeri   \n",
      "6798                 Spade-toothed Whale      Mesoplodon_traversii   \n",
      "6799             Shepherd's Beaked Whale      Tasmacetus_shepherdi   \n",
      "6800               Cuvier's Beaked Whale       Ziphius_cavirostris   \n",
      "\n",
      "                Genus             Family         Order    Subclass  \n",
      "0     Ornithorhynchus  Ornithorhynchidae   Monotremata  Yinotheria  \n",
      "1        Tachyglossus     Tachyglossidae   Monotremata  Yinotheria  \n",
      "2           Zaglossus     Tachyglossidae   Monotremata  Yinotheria  \n",
      "3           Zaglossus     Tachyglossidae   Monotremata  Yinotheria  \n",
      "4           Zaglossus     Tachyglossidae   Monotremata  Yinotheria  \n",
      "...               ...                ...           ...         ...  \n",
      "6796       Mesoplodon          Ziphiidae  Artiodactyla      Theria  \n",
      "6797       Mesoplodon          Ziphiidae  Artiodactyla      Theria  \n",
      "6798       Mesoplodon          Ziphiidae  Artiodactyla      Theria  \n",
      "6799       Tasmacetus          Ziphiidae  Artiodactyla      Theria  \n",
      "6800          Ziphius          Ziphiidae  Artiodactyla      Theria  \n",
      "\n",
      "[6801 rows x 6 columns]\n"
     ]
    }
   ],
   "source": [
    "print(df_small)"
   ]
  },
  {
   "cell_type": "code",
   "execution_count": null,
   "metadata": {
    "colab": {
     "base_uri": "https://localhost:8080/"
    },
    "id": "4KGPZqvzhKT0",
    "outputId": "8c408d47-a268-4bce-9b7f-d986387157ab"
   },
   "outputs": [
    {
     "data": {
      "text/plain": [
       "6801"
      ]
     },
     "execution_count": 2,
     "metadata": {},
     "output_type": "execute_result"
    }
   ],
   "source": [
    "# number of unique Species\n",
    "df_small[\"Species\"].nunique()"
   ]
  },
  {
   "cell_type": "code",
   "execution_count": null,
   "metadata": {
    "colab": {
     "base_uri": "https://localhost:8080/"
    },
    "id": "noaopQMkhE2u",
    "outputId": "6f326339-bcb8-4a32-c1f5-373745cbfee6"
   },
   "outputs": [
    {
     "data": {
      "text/plain": [
       "1357"
      ]
     },
     "execution_count": 3,
     "metadata": {},
     "output_type": "execute_result"
    }
   ],
   "source": [
    "# number of unique Genus\n",
    "df_small[\"Genus\"].nunique()"
   ]
  },
  {
   "cell_type": "code",
   "execution_count": null,
   "metadata": {
    "colab": {
     "base_uri": "https://localhost:8080/"
    },
    "id": "ECbEq8G2g4zk",
    "outputId": "571dfa53-6356-43d0-acaa-055b7ae45e0c"
   },
   "outputs": [
    {
     "data": {
      "text/plain": [
       "167"
      ]
     },
     "execution_count": 4,
     "metadata": {},
     "output_type": "execute_result"
    }
   ],
   "source": [
    "# number of unique Family\n",
    "df_small[\"Family\"].nunique()"
   ]
  },
  {
   "cell_type": "code",
   "execution_count": null,
   "metadata": {
    "colab": {
     "base_uri": "https://localhost:8080/"
    },
    "id": "E-mcJQamg3R7",
    "outputId": "1318a46a-d4b8-4e35-b535-a5e309b82a90"
   },
   "outputs": [
    {
     "data": {
      "text/plain": [
       "27"
      ]
     },
     "execution_count": 5,
     "metadata": {},
     "output_type": "execute_result"
    }
   ],
   "source": [
    "# number of unique Orders\n",
    "df_small[\"Order\"].nunique()"
   ]
  },
  {
   "cell_type": "code",
   "execution_count": null,
   "metadata": {
    "colab": {
     "base_uri": "https://localhost:8080/"
    },
    "id": "3aHOdv7Od_6N",
    "outputId": "39481584-3cf2-406a-e59b-bf5f76330e37"
   },
   "outputs": [
    {
     "data": {
      "text/plain": [
       "2"
      ]
     },
     "execution_count": 6,
     "metadata": {},
     "output_type": "execute_result"
    }
   ],
   "source": [
    "# number of unique Subclasses\n",
    "df_small[\"Subclass\"].nunique()"
   ]
  },
  {
   "cell_type": "code",
   "execution_count": null,
   "metadata": {
    "colab": {
     "base_uri": "https://localhost:8080/"
    },
    "id": "2WWoh9LNN7O5",
    "outputId": "36e24b96-1052-4439-ab62-ac0660b8b6d2"
   },
   "outputs": [
    {
     "name": "stdout",
     "output_type": "stream",
     "text": [
      "Subclass\n",
      "Theria        6796\n",
      "Yinotheria       5\n",
      "Name: count, dtype: int64\n"
     ]
    }
   ],
   "source": [
    "# Print unique Subclasses\n",
    "counts = df_small[\"Subclass\"].value_counts(dropna=False)\n",
    "print(counts)"
   ]
  },
  {
   "cell_type": "markdown",
   "metadata": {
    "id": "RAuwnBysU1ng"
   },
   "source": [
    "## Generate Embeddings (OpenAI text-embedding-3-large) - (embed species + commonName)"
   ]
  },
  {
   "cell_type": "code",
   "execution_count": null,
   "metadata": {
    "id": "Dr6Sjb8TUizi"
   },
   "outputs": [],
   "source": [
    "import os, numpy as np\n",
    "from tqdm import tqdm\n",
    "from openai import OpenAI"
   ]
  },
  {
   "cell_type": "code",
   "execution_count": null,
   "metadata": {
    "id": "0G2vW7M0UtgZ"
   },
   "outputs": [],
   "source": [
    "client = OpenAI(api_key=\"\")\n",
    "\n",
    "def get_openai_embeddings(texts, model=\"text-embedding-3-large\", batch_size=96):\n",
    "    all_embeds = []\n",
    "\n",
    "    for i in tqdm(range(0, len(texts), batch_size), desc=\"Embedding\"):\n",
    "        batch = texts[i : i + batch_size]\n",
    "\n",
    "        response = client.embeddings.create(\n",
    "            model=model,\n",
    "            input=batch,\n",
    "            encoding_format=\"float\"\n",
    "        )\n",
    "\n",
    "        batch_sorted = sorted(response.data, key=lambda o: o.index)\n",
    "        all_embeds.extend([item.embedding for item in batch_sorted])\n",
    "\n",
    "    return np.asarray(all_embeds, dtype=np.float32)\n"
   ]
  },
  {
   "cell_type": "code",
   "execution_count": null,
   "metadata": {
    "colab": {
     "base_uri": "https://localhost:8080/"
    },
    "id": "r2FxAeQsWELe",
    "outputId": "01f7d824-9106-4f45-89b0-570d3534e04e"
   },
   "outputs": [
    {
     "name": "stderr",
     "output_type": "stream",
     "text": [
      "Embedding: 100%|██████████| 71/71 [03:56<00:00,  3.33s/it]"
     ]
    },
    {
     "name": "stdout",
     "output_type": "stream",
     "text": [
      "(6801, 3072) float32\n"
     ]
    },
    {
     "name": "stderr",
     "output_type": "stream",
     "text": [
      "\n"
     ]
    }
   ],
   "source": [
    "# embed species + commonName\n",
    "df_small[\"text_for_embed\"] = (\n",
    "    df_small[\"Species\"].str.replace(\"_\", \" \")\n",
    "    + \" | \"\n",
    "    + df_small[\"CommonName\"]\n",
    ")\n",
    "\n",
    "texts = df_small[\"text_for_embed\"].tolist()\n",
    "emb   = get_openai_embeddings(texts)\n",
    "\n",
    "print(emb.shape, emb.dtype)"
   ]
  },
  {
   "cell_type": "markdown",
   "metadata": {
    "id": "21dbiU83bciA"
   },
   "source": [
    "#KMeans (K=27 : number of unique Orders)"
   ]
  },
  {
   "cell_type": "code",
   "execution_count": null,
   "metadata": {
    "colab": {
     "base_uri": "https://localhost:8080/"
    },
    "id": "zl0Ob8knZ_AQ",
    "outputId": "949a0c63-5f7a-4844-bb7d-cff32217d3e7"
   },
   "outputs": [
    {
     "name": "stdout",
     "output_type": "stream",
     "text": [
      "Collecting kneed\n",
      "  Downloading kneed-0.8.5-py3-none-any.whl.metadata (5.5 kB)\n",
      "Requirement already satisfied: numpy>=1.14.2 in /usr/local/lib/python3.11/dist-packages (from kneed) (2.0.2)\n",
      "Requirement already satisfied: scipy>=1.0.0 in /usr/local/lib/python3.11/dist-packages (from kneed) (1.15.2)\n",
      "Downloading kneed-0.8.5-py3-none-any.whl (10 kB)\n",
      "Installing collected packages: kneed\n",
      "Successfully installed kneed-0.8.5\n"
     ]
    }
   ],
   "source": [
    "pip install kneed"
   ]
  },
  {
   "cell_type": "code",
   "execution_count": null,
   "metadata": {
    "id": "NRpxfL2EZYdF"
   },
   "outputs": [],
   "source": [
    "import numpy as np\n",
    "import matplotlib.pyplot as plt\n",
    "from sklearn.cluster import KMeans\n",
    "\n",
    "km_final  = KMeans(n_clusters=27, n_init=30, random_state=42)\n",
    "labels    = km_final.fit_predict(emb)\n",
    "centroids = km_final.cluster_centers_\n"
   ]
  },
  {
   "cell_type": "markdown",
   "metadata": {
    "id": "EIty4jz31hpG"
   },
   "source": [
    "# Method from [LLMEdgeRefine: Enhancing Text Clustering with LLM-Based Boundary Point Refinement](https://aclanthology.org/2024.emnlp-main.1025/)\n",
    "\n",
    "## SPEC: \"Super-point Enhanced Clustering\"\n",
    "1) **Extract the farthest α% (e.g., 10%) from each cluster:** For each cluster, compute Euclidean distance between all points and their cluster centroid. Select the top α% farthest points (these are considered edge points or potential outliers).\n",
    "\n",
    "2) **Form a super-point from each set of edge points:** For each cluster, average the embeddings of the selected edge points to form a single super-point vector. This acts as a dense representation of the \"tail\" of the cluster and reduces the influence of noise.\n",
    "\n",
    "3) **Treat remaining (non-edge) points as singleton clusters**: Each non-super-point stays individually represented. So the new dataset consists of:\n",
    "- One super-point per cluster\n",
    "- All remaining points as singletons\n",
    "\n",
    "4) **Run agglomerative clustering on this mixed set:** Use AgglomerativeClustering(linkage=\"average\", n_clusters=K) to cluster the combined set of singleton points and super-points. Fix cardinality.\n",
    "- Super-points act like anchors to steer cluster shapes.\n",
    "\n",
    "5) **Assign new labels to all original points**: Every original point (including those used to create super-points) is assigned a new cluster label based on its closest new cluster (e.g., via nearest centroid or label propagation).\n",
    "\n",
    "\n",
    "6) **Recompute centroids for each cluster**: Update the cluster centroids based on the newly assigned labels. These centroids will be used in the next iteration (if repeating SPEC)."
   ]
  },
  {
   "cell_type": "code",
   "execution_count": null,
   "metadata": {
    "id": "FvM9uDGI3ZBu"
   },
   "outputs": [],
   "source": [
    "import numpy as np\n",
    "from sklearn.cluster import AgglomerativeClustering\n",
    "\n",
    "def spec_step(X, labels, centroids, alpha=.10):\n",
    "    N = X.shape[0]\n",
    "    super_points, super_idx = [], []\n",
    "    remain_idx = []\n",
    "\n",
    "    # 1) build super-points per cluster\n",
    "    for c in np.unique(labels):\n",
    "        idx = np.where(labels == c)[0]\n",
    "        dists = np.linalg.norm(X[idx] - centroids[c], axis=1)\n",
    "        take = int(max(1, np.ceil(alpha * len(idx))))\n",
    "        far_idx = idx[np.argsort(dists)[-take:]]\n",
    "        # centroid of farthest points: super point\n",
    "        super_points.append(X[far_idx].mean(0))\n",
    "        super_idx.extend(far_idx)\n",
    "        remain_idx.extend(np.setdiff1d(idx, far_idx))\n",
    "\n",
    "    # 2) make the dataset for agglomerative clustering\n",
    "    X_new   = np.vstack([X[remain_idx], np.vstack(super_points)])\n",
    "    #   first remain_idx rows are singletons, rest are super points\n",
    "    n_clusters = len(set(labels))\n",
    "    ac = AgglomerativeClustering(n_clusters=n_clusters, linkage=\"average\")\n",
    "    new_labels = ac.fit_predict(X_new)\n",
    "\n",
    "    # 3) map back to original order\n",
    "    final = np.empty(N, dtype=int)\n",
    "\n",
    "    # a) singletons\n",
    "    final[remain_idx] = new_labels[:len(remain_idx)]\n",
    "\n",
    "    # b) far points look up by cluster\n",
    "    offset = len(remain_idx)\n",
    "    for j, c in enumerate(np.unique(labels)):\n",
    "        lab_for_super = new_labels[offset + j]\n",
    "        idx = np.where(labels == c)[0]\n",
    "        dists = np.linalg.norm(X[idx] - centroids[c], axis=1)\n",
    "        take = int(max(1, np.ceil(alpha * len(idx))))\n",
    "        far_idx = idx[np.argsort(dists)[-take:]]\n",
    "        final[far_idx] = lab_for_super\n",
    "\n",
    "\n",
    "    # 4) recompute centroids\n",
    "    cents = np.vstack([X[final == k].mean(0) for k in range(n_clusters)])\n",
    "    return final, cents\n"
   ]
  },
  {
   "cell_type": "code",
   "execution_count": null,
   "metadata": {
    "id": "r8isZ2GO5hI5"
   },
   "outputs": [],
   "source": [
    "for _ in range(5):\n",
    "    labels, centroids = spec_step(emb, labels, centroids, alpha=.10)\n"
   ]
  },
  {
   "cell_type": "markdown",
   "metadata": {
    "id": "JhpyAzWB-Sbk"
   },
   "source": [
    "## LACR (LLM-Assisted Cluster Refinement) Using GPT-4.1:\n",
    "1) For each cluster, extract the farthest β% (10%) of points from the centroid (based on Euclidean distance). These are considered edge points likely to be noisy or semantically misplaced.\n",
    "\n",
    "2) For the farthest points, rank all centroids by cosine similarity and pick the top 8 closest clusters. Candidate descriptions for each cluster contains \"Species: X, Common Name: Y\" for Max 20 animals closest to the center of the cluster\n",
    "\n",
    "3) Query LLM if each of the farthest points should stay in that cluster or reassigned to one of the top 8 closest clusters. If LLM outputs outputs \"keep\", label is unchanged. If LLM outputs a number, reassign to that cluster.\n",
    "\n",
    "4) Recompute centroids based on updated labels"
   ]
  },
  {
   "cell_type": "code",
   "execution_count": null,
   "metadata": {
    "id": "LAdDTrYN93yT"
   },
   "outputs": [],
   "source": [
    "from openai import OpenAI\n",
    "\n",
    "client = OpenAI(api_key=\"\")\n",
    "\n",
    "# return True if LLM says 'keep', False if 'move'.\n",
    "def llm_keep(label_to_desc, point_text, prompt_tmpl):\n",
    "  prompt = prompt_tmpl.format(point=point_text, **label_to_desc)\n",
    "\n",
    "  resp = client.chat.completions.create(\n",
    "      model=\"gpt-4.1\",\n",
    "      messages=[{\"role\": \"user\", \"content\": prompt}],\n",
    "      temperature=0\n",
    "  )\n",
    "  reply = resp.choices[0].message.content.strip().upper()\n",
    "\n",
    "  if reply == \"KEEP\":\n",
    "      return True\n",
    "\n",
    "  try:\n",
    "      return int(reply)\n",
    "  except ValueError:\n",
    "      return True\n",
    "\n",
    "\n",
    "prompt_template = \"\"\"\n",
    "You are refining clusters of animal names.\n",
    "{point}\n",
    "\n",
    "Below are 8 candidate cluster descriptions:\n",
    "\n",
    "1. {c1}\n",
    "2. {c2}\n",
    "3. {c3}\n",
    "4. {c4}\n",
    "5. {c5}\n",
    "6. {c6}\n",
    "7. {c7}\n",
    "8. {c8}\n",
    "\n",
    "Choose the ONE cluster index that fits best, or say KEEP if it already fits.\n",
    "Respond with just the number 1-8, or 'KEEP'.\n",
    "\"\"\"\n",
    "beta = 0.10\n",
    "l = 3\n",
    "\n",
    "for _ in range(l):\n",
    "    move_these = []  # <<<<<< ADD THIS: fresh start every loop\n",
    "\n",
    "    # 1) pick 10% farthest names per cluster\n",
    "    unique_labels = np.unique(labels)\n",
    "\n",
    "    centroids = np.vstack([emb[labels == k].mean(0) for k in unique_labels])\n",
    "\n",
    "    label_to_centroid_idx = {label: i for i, label in enumerate(unique_labels)}\n",
    "\n",
    "    for k in unique_labels:\n",
    "        idx = np.where(labels == k)[0]\n",
    "        d = np.linalg.norm(emb[idx] - centroids[label_to_centroid_idx[k]], axis=1)\n",
    "        take = min(len(idx), int(max(1, np.ceil(beta * len(idx)))))\n",
    "        move_these.extend(idx[np.argsort(d)[-take:]])\n",
    "\n",
    "    # 2) for every candidate point, build 8-nearest cluster list\n",
    "    for idx in move_these:\n",
    "        # cosine similarity to each centroid\n",
    "        sims = (emb[idx] @ centroids.T) / (\n",
    "            np.linalg.norm(emb[idx]) * np.linalg.norm(centroids, axis=1)\n",
    "        )\n",
    "        top8 = sims.argsort()[-8:][::-1]\n",
    "\n",
    "        # cluster description: max 50 animals per cluster, with Species + CommonName\n",
    "        desc = {}\n",
    "        for i, c in enumerate(top8):\n",
    "            cluster_idx = np.where(labels == c)[0]\n",
    "\n",
    "            # Compute distance to centroid\n",
    "            dists = np.linalg.norm(emb[cluster_idx] - centroids[label_to_centroid_idx[c]], axis=1)\n",
    "\n",
    "            # Take 50 closest\n",
    "            closest_idx = cluster_idx[np.argsort(dists)[:20]]\n",
    "\n",
    "            subset = df_small.iloc[closest_idx][[\"Species\", \"CommonName\"]]\n",
    "\n",
    "            names = [f\"Species: {row['Species']}, Common Name: {row['CommonName']}\"\n",
    "                     for _, row in subset.iterrows()]\n",
    "            desc[f\"c{i+1}\"] = \"\\n\".join(names)\n",
    "\n",
    "        keep = llm_keep(desc, df_small.loc[idx, \"text_for_embed\"], prompt_template)\n",
    "        if keep != True:\n",
    "            new_label = top8[int(keep) - 1]\n",
    "            labels[idx] = new_label\n",
    "\n",
    "    # 3) after moves, recompute centroids\n",
    "    centroids = np.vstack([emb[labels == k].mean(0) for k in np.unique(labels)])\n"
   ]
  },
  {
   "cell_type": "markdown",
   "metadata": {
    "id": "BImYkMn_JO3T"
   },
   "source": [
    "# Evaluate and Inspect"
   ]
  },
  {
   "cell_type": "code",
   "execution_count": null,
   "metadata": {
    "colab": {
     "base_uri": "https://localhost:8080/"
    },
    "id": "C5rbr0DQJF3n",
    "outputId": "6d5835ac-75f1-4f5f-cbbe-e4015d497358"
   },
   "outputs": [
    {
     "name": "stdout",
     "output_type": "stream",
     "text": [
      "Silhouette = 0.017\n"
     ]
    }
   ],
   "source": [
    "from sklearn.metrics import silhouette_score\n",
    "sil = silhouette_score(emb, labels)\n",
    "print(f\"Silhouette = {sil:.3f}\")\n",
    "\n",
    "df_small[\"cluster\"] = labels\n"
   ]
  },
  {
   "cell_type": "markdown",
   "metadata": {
    "id": "RwVQsLTLLq5U"
   },
   "source": [
    "### Print Common Name, Order per each cluster"
   ]
  },
  {
   "cell_type": "code",
   "execution_count": null,
   "metadata": {
    "colab": {
     "base_uri": "https://localhost:8080/"
    },
    "id": "ijNVN7NwLpb3",
    "outputId": "446dde0d-54d5-400a-e53d-4fde39666655"
   },
   "outputs": [
    {
     "name": "stdout",
     "output_type": "stream",
     "text": [
      "\n",
      "— Cluster 0 —\n",
      "                       CommonName     Order\n",
      "3646      Luzon Broad-toothed Rat  Rodentia\n",
      "3264  Papuan Highland Brush Mouse  Rodentia\n",
      "2600         Ruschi's Spiny Mouse  Rodentia\n",
      "1325     Bennett's Chinchilla Rat  Rodentia\n",
      "1326      Bolivian Chinchilla Rat  Rodentia\n",
      "\n",
      "— Cluster 1 —\n",
      "                    CommonName      Order\n",
      "6278                   Cheetah  Carnivora\n",
      "6399  Small-toothed Palm Civet  Carnivora\n",
      "6182    Western Lowland Olingo  Carnivora\n",
      "6279        African Golden Cat  Carnivora\n",
      "6280                   Caracal  Carnivora\n",
      "\n",
      "— Cluster 2 —\n",
      "                         CommonName       Order\n",
      "6237                Short-eared Dog   Carnivora\n",
      "6336                 Marsh Mongoose   Carnivora\n",
      "5403  White-striped Free-tailed Bat  Chiroptera\n",
      "6183                      Olinguito   Carnivora\n",
      "6184                       Ringtail   Carnivora\n",
      "\n",
      "— Cluster 3 —\n",
      "                    CommonName       Order\n",
      "1537           Mountain Beaver    Rodentia\n",
      "1096           Riverine Rabbit  Lagomorpha\n",
      "1097               Hispid Hare  Lagomorpha\n",
      "1760    Gunnison's Prairie Dog    Rodentia\n",
      "1761  White-tailed Prairie Dog    Rodentia\n",
      "\n",
      "— Cluster 4 —\n",
      "                 CommonName         Order\n",
      "6703     Common Minke Whale  Artiodactyla\n",
      "6704  Antarctic Minke Whale  Artiodactyla\n",
      "6705              Sei Whale  Artiodactyla\n",
      "6706          Bryde's Whale  Artiodactyla\n",
      "6707           Eden's Whale  Artiodactyla\n",
      "\n",
      "— Cluster 5 —\n",
      "      CommonName         Order\n",
      "6537       Addax  Artiodactyla\n",
      "6431      Impala  Artiodactyla\n",
      "6432  Hartebeest  Artiodactyla\n",
      "6438     Dibatag  Artiodactyla\n",
      "6439   Springbok  Artiodactyla\n",
      "\n",
      "— Cluster 6 —\n",
      "             CommonName           Order\n",
      "6667  Moluccan Babirusa    Artiodactyla\n",
      "6668  Sulawesi Babirusa    Artiodactyla\n",
      "6669    Togian Babirusa    Artiodactyla\n",
      "6591       Gray Brocket    Artiodactyla\n",
      "6412   White Rhinoceros  Perissodactyla\n",
      "\n",
      "— Cluster 7 —\n",
      "                   CommonName       Order\n",
      "4592  Bornean Pygmy Fruit Bat  Chiroptera\n",
      "4593   Common Pygmy Fruit Bat  Chiroptera\n",
      "5984        Heller's Serotine  Chiroptera\n",
      "5985          Banana Serotine  Chiroptera\n",
      "5986       Bellier's Serotine  Chiroptera\n",
      "\n",
      "— Cluster 8 —\n",
      "              CommonName            Order\n",
      "177  Cinnamon Antechinus   Dasyuromorphia\n",
      "16         Water Opossum  Didelphimorphia\n",
      "145              Ampurta   Dasyuromorphia\n",
      "149               Kowari   Dasyuromorphia\n",
      "151        Western Quoll   Dasyuromorphia\n",
      "\n",
      "— Cluster 9 —\n",
      "                           CommonName      Order\n",
      "6229                      Giant Panda  Carnivora\n",
      "6093                Western Red Panda  Carnivora\n",
      "6094                Eastern Red Panda  Carnivora\n",
      "6398                        Binturong  Carnivora\n",
      "447   Southern Maned Three-toed Sloth     Pilosa\n",
      "\n",
      "— Cluster 10 —\n",
      "                    CommonName      Order\n",
      "6194   South American Fur Seal  Carnivora\n",
      "6196        Galapagos Fur Seal  Carnivora\n",
      "6197        Antarctic Fur Seal  Carnivora\n",
      "6199  Afro-Australian Fur Seal  Carnivora\n",
      "6200        Guadalupe Fur Seal  Carnivora\n",
      "\n",
      "— Cluster 11 —\n",
      "                  CommonName     Order\n",
      "579     Allen's Swamp Monkey  Primates\n",
      "956  Hairy-eared Dwarf Lemur  Primates\n",
      "580         L'Hoest's Monkey  Primates\n",
      "581          Preuss's Monkey  Primates\n",
      "582        Sun-tailed Monkey  Primates\n",
      "\n",
      "— Cluster 12 —\n",
      "                 CommonName         Order\n",
      "6149    Northern Hog Badger     Carnivora\n",
      "6150     Greater Hog Badger     Carnivora\n",
      "6151    Sumatran Hog Badger     Carnivora\n",
      "4381    Malayan Water Shrew  Eulipotyphla\n",
      "4383  Leander's Water Shrew  Eulipotyphla\n",
      "\n",
      "— Cluster 13 —\n",
      "                 CommonName      Order\n",
      "6360  Alexander's Cusimanse  Carnivora\n",
      "6361      Angolan Cusimanse  Carnivora\n",
      "6362       Common Cusimanse  Carnivora\n",
      "6363  Flat-headed Cusimanse  Carnivora\n",
      "\n",
      "— Cluster 14 —\n",
      "               CommonName          Order\n",
      "4681  Sulawesi Flying Fox     Chiroptera\n",
      "4682    Talaud Flying Fox     Chiroptera\n",
      "4684   Palawan Flying Fox     Chiroptera\n",
      "4685     Sunda Flying Fox     Chiroptera\n",
      "389    Common Bear Cuscus  Diprotodontia\n",
      "\n",
      "— Cluster 15 —\n",
      "               CommonName     Order\n",
      "2528  Gray-bellied Brucie  Rodentia\n",
      "2529     Ihering's Brucie  Rodentia\n",
      "2531  Short-tailed Brucie  Rodentia\n",
      "\n",
      "— Cluster 16 —\n",
      "                  CommonName      Order\n",
      "6111               Wolverine  Carnivora\n",
      "6112         American Marten  Carnivora\n",
      "6113          Pacific Marten  Carnivora\n",
      "6114  Yellow-throated Marten  Carnivora\n",
      "6116          Nilgiri Marten  Carnivora\n",
      "\n",
      "— Cluster 17 —\n",
      "                         CommonName     Order\n",
      "2021                   Great Jerboa  Rodentia\n",
      "3648          Kampalili Shrew Mouse  Rodentia\n",
      "2040         Five-toed Pygmy Jerboa  Rodentia\n",
      "2146      Nearctic Collared Lemming  Rodentia\n",
      "2150  Richardson's Collared Lemming  Rodentia\n",
      "\n",
      "— Cluster 18 —\n",
      "                           CommonName       Order\n",
      "5786                    Social Sprite  Chiroptera\n",
      "4797  Somalian Trident Round-leaf Bat  Chiroptera\n",
      "4800             Dong Bac Trident Bat  Chiroptera\n",
      "4802           Temminck's Trident Bat  Chiroptera\n",
      "5769               Allen's Yellow Bat  Chiroptera\n",
      "\n",
      "— Cluster 19 —\n",
      "                   CommonName         Order\n",
      "6564             Domestic Yak  Artiodactyla\n",
      "6566                 Wild Yak  Artiodactyla\n",
      "6569          Domestic Cattle  Artiodactyla\n",
      "6688  Domestic Bactrian Camel  Artiodactyla\n",
      "6689          Dromedary Camel  Artiodactyla\n",
      "\n",
      "— Cluster 20 —\n",
      "                    CommonName     Order\n",
      "1763       Mexican Prairie Dog  Rodentia\n",
      "1917     Alabama Pocket Gopher  Rodentia\n",
      "1598     Niobe Ground Squirrel  Rodentia\n",
      "1936       Camas Pocket Gopher  Rodentia\n",
      "1937  New Mexico Pocket Gopher  Rodentia\n",
      "\n",
      "— Cluster 21 —\n",
      "                        CommonName         Order\n",
      "960            Lavasoa Dwarf Lemur      Primates\n",
      "5053  Madagascar Sheath-tailed Bat    Chiroptera\n",
      "6328                          Fosa     Carnivora\n",
      "534         Lesser Hedgehog Tenrec  Afrosoricida\n",
      "6330                      Falanouc     Carnivora\n",
      "\n",
      "— Cluster 22 —\n",
      "                          CommonName         Order\n",
      "3981              Four-toed Hedgehog  Eulipotyphla\n",
      "3982          North African Hedgehog  Eulipotyphla\n",
      "3983       Southern African Hedgehog  Eulipotyphla\n",
      "3984                 Somali Hedgehog  Eulipotyphla\n",
      "1311  African Brush-tailed Porcupine      Rodentia\n",
      "\n",
      "— Cluster 23 —\n",
      "                CommonName     Order\n",
      "3045              Ammodile  Rodentia\n",
      "1322                  Noki  Rodentia\n",
      "2859  Northwestern Conyrat  Rodentia\n",
      "2860   Naked-soled Conyrat  Rodentia\n",
      "3121         Congo Tateril  Rodentia\n",
      "\n",
      "— Cluster 24 —\n",
      "           CommonName         Order\n",
      "4589  Giant Solenodon  Eulipotyphla\n",
      "\n",
      "— Cluster 25 —\n",
      "              CommonName     Order\n",
      "2287       Gansu Hamster  Rodentia\n",
      "2294    Romanian Hamster  Rodentia\n",
      "3489        Baoule Mouse  Rodentia\n",
      "3492  Callewaert's Mouse  Rodentia\n",
      "3493        Ryukyu Mouse  Rodentia\n",
      "\n",
      "— Cluster 26 —\n",
      "                 CommonName     Order\n",
      "993   Betsileo Woolly Lemur  Primates\n",
      "995    Eastern Woolly Lemur  Primates\n",
      "1000   Manombo Woolly Lemur  Primates\n",
      "941      Philippine Tarsier  Primates\n",
      "942         Western Tarsier  Primates\n"
     ]
    }
   ],
   "source": [
    "# Make sure rows inside a cluster are ordered predictably\n",
    "tmp = df_small.sort_values([\"cluster\", \"Species\"])\n",
    "\n",
    "# How many examples per cluster?\n",
    "n = 5\n",
    "\n",
    "for c in sorted(tmp[\"cluster\"].unique()):      # 0, 1, 2, …\n",
    "    print(f\"\\n— Cluster {c} —\")                # header line\n",
    "    block = tmp[tmp[\"cluster\"] == c].head(n)   # first n rows of this cluster\n",
    "    print(block[[\"CommonName\", \"Order\"]])    # choose columns to display"
   ]
  },
  {
   "cell_type": "code",
   "execution_count": null,
   "metadata": {
    "colab": {
     "base_uri": "https://localhost:8080/",
     "height": 656
    },
    "id": "JttxJTgoJVO8",
    "outputId": "f5fb73da-ca41-4858-b4b7-f9380ba0e939"
   },
   "outputs": [
    {
     "data": {
      "image/png": "[encoded data removed]",
      "text/plain": [
       "<Figure size 800x600 with 1 Axes>"
      ]
     },
     "metadata": {},
     "output_type": "display_data"
    }
   ],
   "source": [
    "import umap\n",
    "import numpy as np\n",
    "import matplotlib.pyplot as plt\n",
    "import matplotlib as mpl\n",
    "import matplotlib.lines as mlines\n",
    "\n",
    "orders = df_small[\"Order\"].fillna(\"Unknown\")\n",
    "order_codes = orders.astype(\"category\").cat.codes     # integers 0…M-1\n",
    "unique_orders = orders.astype(\"category\").cat.categories\n",
    "\n",
    "# Build a categorical colormap with enough distinct hues\n",
    "cmap = mpl.colors.ListedColormap(\n",
    "    mpl.cm.tab20(np.linspace(0, 1, len(unique_orders)))\n",
    ")\n",
    "\n",
    "fig, ax = plt.subplots(figsize=(8, 6))\n",
    "sc = ax.scatter(u[:, 0], u[:, 1],\n",
    "                c=order_codes,\n",
    "                cmap=cmap,\n",
    "                s=15, alpha=.8)\n",
    "\n",
    "# Legend handles: use mlines.Line2D\n",
    "handles = [\n",
    "    mlines.Line2D([0], [0], marker='o', linestyle='',\n",
    "                  markerfacecolor=cmap(i), markersize=6,\n",
    "                  markeredgewidth=0, label=ordr)\n",
    "    for i, ordr in enumerate(unique_orders)\n",
    "]\n",
    "\n",
    "ax.legend(handles=handles,\n",
    "          bbox_to_anchor=(1.05, 1), loc='upper left',\n",
    "          title=\"Order\", frameon=False)\n",
    "ax.set_title(\"Species coloured by taxonomic Order\")\n",
    "ax.set_xlabel(\"UMAP-1\"); ax.set_ylabel(\"UMAP-2\")\n",
    "plt.tight_layout(); plt.show()\n"
   ]
  },
  {
   "cell_type": "markdown",
   "metadata": {
    "id": "FL0Qy_gghKdv"
   },
   "source": [
    "## Print unique orders per cluster with counts"
   ]
  },
  {
   "cell_type": "code",
   "execution_count": null,
   "metadata": {
    "colab": {
     "base_uri": "https://localhost:8080/"
    },
    "id": "csEU26yrhGwQ",
    "outputId": "cd09dde9-c5a2-42fb-b15d-9831e64e9e4c"
   },
   "outputs": [
    {
     "name": "stdout",
     "output_type": "stream",
     "text": [
      "\n",
      "— Cluster 0 —\n",
      "Rodentia: 2611\n",
      "Eulipotyphla: 554\n",
      "Diprotodontia: 126\n",
      "Didelphimorphia: 120\n",
      "Dasyuromorphia: 81\n",
      "Chiroptera: 80\n",
      "Afrosoricida: 50\n",
      "Artiodactyla: 49\n",
      "Primates: 32\n",
      "Peramelemorphia: 31\n",
      "Carnivora: 30\n",
      "Cingulata: 23\n",
      "Lagomorpha: 10\n",
      "Pilosa: 9\n",
      "Paucituberculata: 7\n",
      "Scandentia: 5\n",
      "Monotremata: 4\n",
      "Perissodactyla: 4\n",
      "Notoryctemorphia: 2\n",
      "Microbiotheria: 2\n",
      "Hyracoidea: 1\n",
      "Macroscelidea: 1\n",
      "\n",
      "— Cluster 1 —\n",
      "Carnivora: 85\n",
      "Primates: 17\n",
      "Pholidota: 9\n",
      "\n",
      "— Cluster 2 —\n",
      "Carnivora: 81\n",
      "Chiroptera: 38\n",
      "Rodentia: 2\n",
      "Diprotodontia: 1\n",
      "Dasyuromorphia: 1\n",
      "\n",
      "— Cluster 3 —\n",
      "Lagomorpha: 102\n",
      "Rodentia: 31\n",
      "Diprotodontia: 17\n",
      "\n",
      "— Cluster 4 —\n",
      "Artiodactyla: 94\n",
      "Carnivora: 1\n",
      "Sirenia: 1\n",
      "\n",
      "— Cluster 5 —\n",
      "Artiodactyla: 183\n",
      "Perissodactyla: 5\n",
      "Primates: 1\n",
      "\n",
      "— Cluster 6 —\n",
      "Artiodactyla: 30\n",
      "Perissodactyla: 9\n",
      "Tubulidentata: 1\n",
      "\n",
      "— Cluster 7 —\n",
      "Chiroptera: 1218\n",
      "Cingulata: 1\n",
      "\n",
      "— Cluster 8 —\n",
      "Dasyuromorphia: 8\n",
      "Didelphimorphia: 6\n",
      "\n",
      "— Cluster 9 —\n",
      "Carnivora: 11\n",
      "Pilosa: 8\n",
      "Primates: 8\n",
      "\n",
      "— Cluster 10 —\n",
      "Carnivora: 35\n",
      "Sirenia: 4\n",
      "\n",
      "— Cluster 11 —\n",
      "Primates: 416\n",
      "Scandentia: 13\n",
      "Carnivora: 4\n",
      "Diprotodontia: 1\n",
      "\n",
      "— Cluster 12 —\n",
      "Carnivora: 54\n",
      "Eulipotyphla: 7\n",
      "Rodentia: 5\n",
      "Chiroptera: 1\n",
      "\n",
      "— Cluster 13 —\n",
      "Carnivora: 4\n",
      "\n",
      "— Cluster 14 —\n",
      "Chiroptera: 41\n",
      "Diprotodontia: 14\n",
      "Scandentia: 5\n",
      "Rodentia: 3\n",
      "Dermoptera: 2\n",
      "Primates: 1\n",
      "\n",
      "— Cluster 15 —\n",
      "Rodentia: 3\n",
      "\n",
      "— Cluster 16 —\n",
      "Carnivora: 9\n",
      "\n",
      "— Cluster 17 —\n",
      "Rodentia: 31\n",
      "Eulipotyphla: 27\n",
      "\n",
      "— Cluster 18 —\n",
      "Chiroptera: 109\n",
      "\n",
      "— Cluster 19 —\n",
      "Rodentia: 15\n",
      "Artiodactyla: 14\n",
      "\n",
      "— Cluster 20 —\n",
      "Rodentia: 13\n",
      "\n",
      "— Cluster 21 —\n",
      "Primates: 8\n",
      "Chiroptera: 5\n",
      "Carnivora: 5\n",
      "Afrosoricida: 4\n",
      "Eulipotyphla: 2\n",
      "Artiodactyla: 1\n",
      "Rodentia: 1\n",
      "\n",
      "— Cluster 22 —\n",
      "Rodentia: 37\n",
      "Eulipotyphla: 20\n",
      "Macroscelidea: 19\n",
      "Hyracoidea: 5\n",
      "Proboscidea: 3\n",
      "Afrosoricida: 1\n",
      "Cingulata: 1\n",
      "Monotremata: 1\n",
      "\n",
      "— Cluster 23 —\n",
      "Rodentia: 10\n",
      "\n",
      "— Cluster 24 —\n",
      "Eulipotyphla: 1\n",
      "\n",
      "— Cluster 25 —\n",
      "Rodentia: 11\n",
      "\n",
      "— Cluster 26 —\n",
      "Primates: 34\n"
     ]
    }
   ],
   "source": [
    "# Make sure rows are sorted predictably\n",
    "tmp = df_small.sort_values([\"cluster\", \"Species\"])\n",
    "\n",
    "# Print unique orders per cluster with counts\n",
    "for c in sorted(tmp[\"cluster\"].unique()):\n",
    "    print(f\"\\n— Cluster {c} —\")\n",
    "    counts = tmp[tmp[\"cluster\"] == c][\"Order\"].value_counts()\n",
    "    for order, count in counts.items():\n",
    "        print(f\"{order}: {count}\")\n"
   ]
  },
  {
   "cell_type": "markdown",
   "metadata": {
    "id": "eos2VOwOLkIe"
   },
   "source": [
    "# Calculate Mean Cluster Purity by Order"
   ]
  },
  {
   "cell_type": "code",
   "execution_count": null,
   "metadata": {
    "colab": {
     "base_uri": "https://localhost:8080/"
    },
    "id": "9nltioU9K0Ag",
    "outputId": "94bdb328-ab71-4d09-b60e-c9f38fd83358"
   },
   "outputs": [
    {
     "name": "stdout",
     "output_type": "stream",
     "text": [
      "Mean cluster purity by Order: 0.7973686432578847\n"
     ]
    }
   ],
   "source": [
    "import numpy as np\n",
    "\n",
    "def mean_purity_from_labels(labels, orders):\n",
    "    purities = []\n",
    "    for k in np.unique(labels):\n",
    "        idx     = np.where(labels == k)[0]\n",
    "        ords    = orders.iloc[idx]\n",
    "        top     = ords.value_counts().iloc[0]\n",
    "        purities.append(top / len(ords))\n",
    "    return np.mean(purities)\n",
    "\n",
    "orders = df_small[\"Order\"]\n",
    "print(\"Mean cluster purity by Order:\", mean_purity_from_labels(labels, orders))\n"
   ]
  }
 ],
 "metadata": {
  "colab": {
   "machine_shape": "hm",
   "provenance": []
  },
  "kernelspec": {
   "display_name": "Python 3 (ipykernel)",
   "language": "python",
   "name": "python3"
  },
  "language_info": {
   "codemirror_mode": {
    "name": "ipython",
    "version": 3
   },
   "file_extension": ".py",
   "mimetype": "text/x-python",
   "name": "python",
   "nbconvert_exporter": "python",
   "pygments_lexer": "ipython3",
   "version": "3.9.13"
  }
 },
 "nbformat": 4,
 "nbformat_minor": 1
}
