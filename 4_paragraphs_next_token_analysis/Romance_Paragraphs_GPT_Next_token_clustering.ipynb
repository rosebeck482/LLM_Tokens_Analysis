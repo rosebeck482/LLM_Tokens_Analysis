{
 "cells": [
  {
   "cell_type": "markdown",
   "metadata": {
    "id": "9EbPPjFtRNYb"
   },
   "source": [
    "# Dataset Used:\n",
    "[AlekseyKorshuk/romance-books](https://huggingface.co/datasets/AlekseyKorshuk/romance-books) from Hugging Face\n",
    "\n",
    "\n"
   ]
  },
  {
   "cell_type": "markdown",
   "metadata": {
    "id": "q0nz0NE-Y2zQ"
   },
   "source": [
    "- What is the right way of clustering?\n",
    "- Is it based on the closeness or cosine similarity? What happens when we have more similar words, how can we cluster them?\n",
    "- Can we have a new clustering technique, based on the next token?\n"
   ]
  },
  {
   "cell_type": "code",
   "execution_count": 1,
   "metadata": {
    "colab": {
     "base_uri": "https://localhost:8080/"
    },
    "id": "anRfNUODCIcK",
    "outputId": "a38e1367-3529-44e6-f7eb-02facfcf1d18"
   },
   "outputs": [
    {
     "name": "stdout",
     "output_type": "stream",
     "text": [
      "Requirement already satisfied: datasets in /usr/local/lib/python3.11/dist-packages (3.6.0)\n",
      "Requirement already satisfied: filelock in /usr/local/lib/python3.11/dist-packages (from datasets) (3.18.0)\n",
      "Requirement already satisfied: numpy>=1.17 in /usr/local/lib/python3.11/dist-packages (from datasets) (2.0.2)\n",
      "Requirement already satisfied: pyarrow>=15.0.0 in /usr/local/lib/python3.11/dist-packages (from datasets) (18.1.0)\n",
      "Requirement already satisfied: dill<0.3.9,>=0.3.0 in /usr/local/lib/python3.11/dist-packages (from datasets) (0.3.7)\n",
      "Requirement already satisfied: pandas in /usr/local/lib/python3.11/dist-packages (from datasets) (2.2.2)\n",
      "Requirement already satisfied: requests>=2.32.2 in /usr/local/lib/python3.11/dist-packages (from datasets) (2.32.3)\n",
      "Requirement already satisfied: tqdm>=4.66.3 in /usr/local/lib/python3.11/dist-packages (from datasets) (4.67.1)\n",
      "Requirement already satisfied: xxhash in /usr/local/lib/python3.11/dist-packages (from datasets) (3.5.0)\n",
      "Requirement already satisfied: multiprocess<0.70.17 in /usr/local/lib/python3.11/dist-packages (from datasets) (0.70.15)\n",
      "Requirement already satisfied: fsspec<=2025.3.0,>=2023.1.0 in /usr/local/lib/python3.11/dist-packages (from fsspec[http]<=2025.3.0,>=2023.1.0->datasets) (2025.3.0)\n",
      "Requirement already satisfied: huggingface-hub>=0.24.0 in /usr/local/lib/python3.11/dist-packages (from datasets) (0.31.2)\n",
      "Requirement already satisfied: packaging in /usr/local/lib/python3.11/dist-packages (from datasets) (24.2)\n",
      "Requirement already satisfied: pyyaml>=5.1 in /usr/local/lib/python3.11/dist-packages (from datasets) (6.0.2)\n",
      "Requirement already satisfied: aiohttp!=4.0.0a0,!=4.0.0a1 in /usr/local/lib/python3.11/dist-packages (from fsspec[http]<=2025.3.0,>=2023.1.0->datasets) (3.11.15)\n",
      "Requirement already satisfied: typing-extensions>=3.7.4.3 in /usr/local/lib/python3.11/dist-packages (from huggingface-hub>=0.24.0->datasets) (4.13.2)\n",
      "Requirement already satisfied: charset-normalizer<4,>=2 in /usr/local/lib/python3.11/dist-packages (from requests>=2.32.2->datasets) (3.4.2)\n",
      "Requirement already satisfied: idna<4,>=2.5 in /usr/local/lib/python3.11/dist-packages (from requests>=2.32.2->datasets) (3.10)\n",
      "Requirement already satisfied: urllib3<3,>=1.21.1 in /usr/local/lib/python3.11/dist-packages (from requests>=2.32.2->datasets) (2.4.0)\n",
      "Requirement already satisfied: certifi>=2017.4.17 in /usr/local/lib/python3.11/dist-packages (from requests>=2.32.2->datasets) (2025.4.26)\n",
      "Requirement already satisfied: python-dateutil>=2.8.2 in /usr/local/lib/python3.11/dist-packages (from pandas->datasets) (2.9.0.post0)\n",
      "Requirement already satisfied: pytz>=2020.1 in /usr/local/lib/python3.11/dist-packages (from pandas->datasets) (2025.2)\n",
      "Requirement already satisfied: tzdata>=2022.7 in /usr/local/lib/python3.11/dist-packages (from pandas->datasets) (2025.2)\n",
      "Requirement already satisfied: aiohappyeyeballs>=2.3.0 in /usr/local/lib/python3.11/dist-packages (from aiohttp!=4.0.0a0,!=4.0.0a1->fsspec[http]<=2025.3.0,>=2023.1.0->datasets) (2.6.1)\n",
      "Requirement already satisfied: aiosignal>=1.1.2 in /usr/local/lib/python3.11/dist-packages (from aiohttp!=4.0.0a0,!=4.0.0a1->fsspec[http]<=2025.3.0,>=2023.1.0->datasets) (1.3.2)\n",
      "Requirement already satisfied: attrs>=17.3.0 in /usr/local/lib/python3.11/dist-packages (from aiohttp!=4.0.0a0,!=4.0.0a1->fsspec[http]<=2025.3.0,>=2023.1.0->datasets) (25.3.0)\n",
      "Requirement already satisfied: frozenlist>=1.1.1 in /usr/local/lib/python3.11/dist-packages (from aiohttp!=4.0.0a0,!=4.0.0a1->fsspec[http]<=2025.3.0,>=2023.1.0->datasets) (1.6.0)\n",
      "Requirement already satisfied: multidict<7.0,>=4.5 in /usr/local/lib/python3.11/dist-packages (from aiohttp!=4.0.0a0,!=4.0.0a1->fsspec[http]<=2025.3.0,>=2023.1.0->datasets) (6.4.3)\n",
      "Requirement already satisfied: propcache>=0.2.0 in /usr/local/lib/python3.11/dist-packages (from aiohttp!=4.0.0a0,!=4.0.0a1->fsspec[http]<=2025.3.0,>=2023.1.0->datasets) (0.3.1)\n",
      "Requirement already satisfied: yarl<2.0,>=1.17.0 in /usr/local/lib/python3.11/dist-packages (from aiohttp!=4.0.0a0,!=4.0.0a1->fsspec[http]<=2025.3.0,>=2023.1.0->datasets) (1.20.0)\n",
      "Requirement already satisfied: six>=1.5 in /usr/local/lib/python3.11/dist-packages (from python-dateutil>=2.8.2->pandas->datasets) (1.17.0)\n"
     ]
    }
   ],
   "source": [
    "pip install datasets"
   ]
  },
  {
   "cell_type": "code",
   "execution_count": 2,
   "metadata": {
    "id": "MQjJR3qqgYFJ"
   },
   "outputs": [],
   "source": [
    "import numpy as np\n",
    "import torch\n",
    "from tqdm import tqdm"
   ]
  },
  {
   "cell_type": "code",
   "execution_count": 3,
   "metadata": {
    "colab": {
     "base_uri": "https://localhost:8080/"
    },
    "id": "eLPRvJ7jCbeW",
    "outputId": "778a1474-d988-496e-8c40-035ff543f82e"
   },
   "outputs": [
    {
     "name": "stdout",
     "output_type": "stream",
     "text": [
      "\n",
      "    _|    _|  _|    _|    _|_|_|    _|_|_|  _|_|_|  _|      _|    _|_|_|      _|_|_|_|    _|_|      _|_|_|  _|_|_|_|\n",
      "    _|    _|  _|    _|  _|        _|          _|    _|_|    _|  _|            _|        _|    _|  _|        _|\n",
      "    _|_|_|_|  _|    _|  _|  _|_|  _|  _|_|    _|    _|  _|  _|  _|  _|_|      _|_|_|    _|_|_|_|  _|        _|_|_|\n",
      "    _|    _|  _|    _|  _|    _|  _|    _|    _|    _|    _|_|  _|    _|      _|        _|    _|  _|        _|\n",
      "    _|    _|    _|_|      _|_|_|    _|_|_|  _|_|_|  _|      _|    _|_|_|      _|        _|    _|    _|_|_|  _|_|_|_|\n",
      "\n",
      "    A token is already saved on your machine. Run `huggingface-cli whoami` to get more information or `huggingface-cli logout` if you want to log out.\n",
      "    Setting a new token will erase the existing one.\n",
      "    To log in, `huggingface_hub` requires a token generated from https://huggingface.co/settings/tokens .\n",
      "Enter your token (input will not be visible): \n",
      "Add token as git credential? (Y/n) y\n",
      "Token is valid (permission: fineGrained).\n",
      "The token `mytoken` has been saved to /root/.cache/huggingface/stored_tokens\n",
      "\u001b[1m\u001b[31mCannot authenticate through git-credential as no helper is defined on your machine.\n",
      "You might have to re-authenticate when pushing to the Hugging Face Hub.\n",
      "Run the following command in your terminal in case you want to set the 'store' credential helper as default.\n",
      "\n",
      "git config --global credential.helper store\n",
      "\n",
      "Read https://git-scm.com/book/en/v2/Git-Tools-Credential-Storage for more details.\u001b[0m\n",
      "Token has not been saved to git credential helper.\n",
      "Your token has been saved to /root/.cache/huggingface/token\n",
      "Login successful.\n",
      "The current active token is: `mytoken`\n"
     ]
    }
   ],
   "source": [
    "!huggingface-cli login"
   ]
  },
  {
   "cell_type": "code",
   "execution_count": 4,
   "metadata": {
    "colab": {
     "base_uri": "https://localhost:8080/",
     "height": 237,
     "referenced_widgets": [
      "a904a9a0891d4a2da629a3c261ff7add",
      "9de0181426f6418ea1264e0bfc400fdc",
      "fbcc1f166fb14759b8548d7087b5fbd6",
      "b516c856af8f4b4596ac61083b7c1982",
      "75c4e767b1234a8d99847c96708b1b2e",
      "6e887e75c6d543b785ca0d1f3909f3c5",
      "269f3b9ea6cb4920a3cd5101b902be59",
      "dade3ed99b604d29960b3de09d24008b",
      "243547cac30e433e93810da5c9528518",
      "02d629ab42d0412a86da7760df745987",
      "a7856375e49c44a5894dd64719bed7e0",
      "9c5b3e89be2a4ce79dd097b2b04246d8",
      "9806ab9c2df9498bbbe517bd38e0f820",
      "390a398d23f148c7b76c8b3798aaf486",
      "9feccd2106f64c4ebe4bc093a98b08be",
      "82a6bb97a9ac4180bd3540ff95ead22f",
      "4d138eb8bb1040c2a1fc2de5dee5fafc",
      "ba7540e99e754bc3bc6d39898adde33e",
      "04a5732d2c754be59bff419af8202aaf",
      "f2fa83d00033475895dafdecdfadfd7b",
      "82a28eabf045490797c6eaa7489b56de",
      "6e3bb715340d4d67a60aceeb234cb29f",
      "855e3709cb974764b1abbc29989cf170",
      "29aa229f7a6649afa972eed07ab2e220",
      "484232f9eb8e4b14a5807a07987ebfb4",
      "d519dafe37e74d1fae0f811cbcd18977",
      "e50a857d8a874a9187392e3d42631006",
      "687a600737654768a7ae7cd230cc1c57",
      "3f9177298f4e47898875c1bc1b95c285",
      "031640124749498db4788c8e054dde4e",
      "d1e450bcaf334b41865c443859db665e",
      "a86dc9c282dc4590aed62639669dcea7",
      "8d587167e63e46fa9a411e8bb3f66c0f"
     ]
    },
    "id": "RTSp2Bu2RY59",
    "outputId": "d1b296b4-344f-4708-ad6b-cf8b65049715"
   },
   "outputs": [
    {
     "name": "stderr",
     "output_type": "stream",
     "text": [
      "/usr/local/lib/python3.11/dist-packages/huggingface_hub/utils/_auth.py:94: UserWarning: \n",
      "The secret `HF_TOKEN` does not exist in your Colab secrets.\n",
      "To authenticate with the Hugging Face Hub, create a token in your settings tab (https://huggingface.co/settings/tokens), set it as secret in your Google Colab and restart your session.\n",
      "You will be able to reuse this secret in all of your notebooks.\n",
      "Please note that authentication is recommended but still optional to access public models or datasets.\n",
      "  warnings.warn(\n"
     ]
    },
    {
     "data": {
      "application/vnd.jupyter.widget-view+json": {
       "model_id": "a904a9a0891d4a2da629a3c261ff7add",
       "version_major": 2,
       "version_minor": 0
      },
      "text/plain": [
       "dataset_infos.json:   0%|          | 0.00/625 [00:00<?, ?B/s]"
      ]
     },
     "metadata": {},
     "output_type": "display_data"
    },
    {
     "data": {
      "application/vnd.jupyter.widget-view+json": {
       "model_id": "9c5b3e89be2a4ce79dd097b2b04246d8",
       "version_major": 2,
       "version_minor": 0
      },
      "text/plain": [
       "train-00000-of-00001.parquet:   0%|          | 0.00/263M [00:00<?, ?B/s]"
      ]
     },
     "metadata": {},
     "output_type": "display_data"
    },
    {
     "data": {
      "application/vnd.jupyter.widget-view+json": {
       "model_id": "855e3709cb974764b1abbc29989cf170",
       "version_major": 2,
       "version_minor": 0
      },
      "text/plain": [
       "Generating train split:   0%|          | 0/3548 [00:00<?, ? examples/s]"
      ]
     },
     "metadata": {},
     "output_type": "display_data"
    }
   ],
   "source": [
    "from datasets import load_dataset\n",
    "\n",
    "# Login using e.g. `huggingface-cli login` to access this dataset\n",
    "ds = load_dataset(\"AlekseyKorshuk/romance-books\")"
   ]
  },
  {
   "cell_type": "code",
   "execution_count": 20,
   "metadata": {
    "colab": {
     "base_uri": "https://localhost:8080/"
    },
    "id": "r9SXi-Wo_sAd",
    "outputId": "068a66f3-3572-498e-81f0-cfbf770d5484"
   },
   "outputs": [
    {
     "name": "stdout",
     "output_type": "stream",
     "text": [
      "Loaded 644,055 cleaned romance paragraphs\n",
      "\n",
      "First paragraph preview:\n",
      "\n",
      "I am exhausted, physically and mentally, by lunch time. Xavier has been dogged by so many people that even he is tired now, huffing beside me like a car that has just run out of gas. \"This,\" he says, running a hair through his perfect, blue hair, \"is why I haven't gone to school for the last thirty-two years.\" I blink, wondering if I had heard him right. \"Thirty-two years?\" I squeak, my voice barely above a whisper. Even now, as we casually walk down the hallway, people are staring at him, gossi …\n"
     ]
    }
   ],
   "source": [
    "import re\n",
    "from typing import List\n",
    "from datasets import load_dataset\n",
    "\n",
    "def load_romance_paragraphs(min_len: int = 40) -> List[str]:\n",
    "    ds = load_dataset(\"AlekseyKorshuk/romance-books\", split=\"train\")\n",
    "\n",
    "    all_paragraphs: list[str] = []\n",
    "\n",
    "    for full_text in ds[\"text\"]:\n",
    "        # Split into raw paragraphs\n",
    "        raw_paragraphs = [p.strip() for p in re.split(r\"\\n\\s*\\n\", full_text)]\n",
    "\n",
    "        cleaned_paragraphs = []\n",
    "\n",
    "        for p in raw_paragraphs:\n",
    "            # Remove chapter/prologue headings\n",
    "            p = re.sub(r\"\\b(?:Chapter\\s+(?:[IVXLCDM]+|\\d+)|Prologue)\\b\", \"\", p, flags=re.IGNORECASE).strip()\n",
    "\n",
    "            # Skip paragraphs starting with \"Book Name\"\n",
    "            if re.match(r'^\\s*book name', p, flags=re.I):\n",
    "                continue\n",
    "\n",
    "\n",
    "            # Skip paragraphs with marketing or contact info\n",
    "            if any(x in p.lower() for x in ['order your copy', 'publication date', '.com', '@']):\n",
    "                continue\n",
    "            # Skip paragraphs starting with unwanted symbols (but allow quotes like \", ', “)\n",
    "            if re.match(r'^[^A-Za-z0-9\"\\']', p):  # optionally add “ if using Unicode quotes\n",
    "                continue\n",
    "\n",
    "            # Normalize whitespace\n",
    "            p = re.sub(r'\\s+', ' ', p).strip()\n",
    "\n",
    "            if len(p) >= min_len:\n",
    "                cleaned_paragraphs.append(p)\n",
    "\n",
    "        # Remove first and last 10 paragraphs if enough remain\n",
    "        if len(cleaned_paragraphs) > 10:\n",
    "            cleaned_paragraphs = cleaned_paragraphs[10:-10]\n",
    "\n",
    "        all_paragraphs.extend(cleaned_paragraphs)\n",
    "\n",
    "    return all_paragraphs\n",
    "\n",
    "# Example usage\n",
    "paragraphs = load_romance_paragraphs()\n",
    "print(f\"Loaded {len(paragraphs):,} cleaned romance paragraphs\")\n",
    "print(\"\\nFirst paragraph preview:\\n\")\n",
    "print(paragraphs[0][:500], \"…\")\n"
   ]
  },
  {
   "cell_type": "code",
   "execution_count": 21,
   "metadata": {
    "colab": {
     "base_uri": "https://localhost:8080/"
    },
    "id": "xnUB-HVMl6UO",
    "outputId": "c766d886-c345-4942-ca46-e4ebb7b70697"
   },
   "outputs": [
    {
     "name": "stdout",
     "output_type": "stream",
     "text": [
      "\n",
      "Saved 644055 paragraphs to /content/romance_paragraphs_cleaned.json\n"
     ]
    }
   ],
   "source": [
    "import json\n",
    "\n",
    "# Define the output path\n",
    "output_path = '/content/romance_paragraphs_cleaned.json'\n",
    "\n",
    "# Save the paragraphs list as a JSON file\n",
    "with open(output_path, 'w', encoding='utf-8') as f:\n",
    "    json.dump(paragraphs, f, ensure_ascii=False, indent=2)\n",
    "\n",
    "print(f\"\\nSaved {len(paragraphs)} paragraphs to {output_path}\")\n"
   ]
  },
  {
   "cell_type": "code",
   "execution_count": 22,
   "metadata": {
    "colab": {
     "base_uri": "https://localhost:8080/"
    },
    "id": "FZ6jlIfDbQeS",
    "outputId": "de66c180-0775-408e-8759-58fc7a5a2adf"
   },
   "outputs": [
    {
     "name": "stdout",
     "output_type": "stream",
     "text": [
      "I am exhausted, physically and mentally, by lunch time. Xavier has been dogged by so many people that even he is tired now, huffing beside me like a car that has just run out of gas. \"This,\" he says, running a hair through his perfect, blue hair, \"is why I haven't gone to school for the last thirty-two years.\" I blink, wondering if I had heard him right. \"Thirty-two years?\" I squeak, my voice barely above a whisper. Even now, as we casually walk down the hallway, people are staring at him, gossiping about the new senior that is sizzling hot. \"Yeah. I was born fifty-five years ago, March 4, 1955, to be exact, and you are not eligible to go to school until you are five. So, that makes about thirty-two years since I last went. I only completed high school, and didn't go to college,\" he says plainly. My eyes widen with surprise as I absorb his words. \"So you are fifty-five years old,\" I say dubiously. Somehow, that is hard to believe. He looks like a normal eighteen year old... an incredibly hot one, I must admit. \"Not really,\" he says softly, looking at the floor as he emits these next words, \"a werewolf has no beginning and no end. We are born out of death, and death we shall remain.\" I cross my arms, trying to disguise the fact that I am confused. It is hard for me to understand, the meaning behind his statement. \"What do you mean… no beginning and no end?\" I question, my voice filled with curiosity. \"I'll tell you later,\" he shrugs, \"it will take a little while to explain, and we don't have the time.\" His carelessness signifies that it is not a huge deal, so I relax a little. Then I stiffen once more as I realize that I am warming up to him. It is like I am constantly waging a war against an undeniable attraction, and the deathly feeling is taking the lead. However, I will not let it win. I will not fall in love with Xavier. \"Fine,\" I say as we finally reach the double doors. He steps in front of me, swinging the door open. He shoots me a beautiful smile, holding it so I can enter the lunchroom. I marvel at how much of a gentleman he is, at how respectful and old-fashioned he behaves. Oh yeah. He was born fifty-five years ago. The lunchroom houses tables for four, two, and eight. They are scattered within the room, with a buffet on the kitchen side. On the opposite end, there is a stage. A rather lackluster room overall, matching the insipid rest of the school. We walk to the long line, surrounded by girls as they swarm around the blue-haired idiot. Cries and calls erupt, all directed towards Xavier. I, expressionless, grab a napkin and tray, placing it on the buffet so I can get my daily helping of tasteless mush. Xavier follows my actions, wincing in disgust as he surveys the selection of what the school likes to call \"food\". \"This is another reason why I haven't gone to school,\" he mutters as he stacks the slushy mess onto his tray. I look at the tray, avoiding his gaze. \"I deal with it every day,\" I sigh as I bring the tray to the cashier. Robotically, I punch in my pin number and pay for the food. Every month, the orphanage gives me twenty dollars for my cafeteria account. Lunch, however, is one dollar, leaving me to go without lunch for a couple of days. Xavier pulls out a tender green bill, handing it to the old and withered cashier. She takes it, her eyelashes fluttering as she shoots Xavier a flirty smile, and examines the thin piece of paper. Suddenly, her eyes widen and she waves the bill at him. \"A hundred dollar bill?\" she asks, surprised. He waves her off, \"keep the change.\" Her eyes are nearly bulging out of her skull. \"But lunch is a dollar...\" she says, incredulous. \"Oh really?\" he asks as he looks at the horror splurging on his tray, \"I thought it would be less. This looks absolutely disgusting.\" Laughs explode around the lunchroom, all attention focused on the beautiful man. The funny thing about it is, Xavier is totally serious when he is talking to the cashier. He means the upmost respect. Even I can't prevent a laugh from bubbling forth. \"Take it,\" he says to her, rather disappointingly, \"use the money to improve your food so the students will actually eat it.\" With a last, disdaining glance, he walks to my side. Cheers ensue, the whole student body agreeing with his words. \"Come on, Mona,\" he demands, authority oozing from him. He leads the way to a table for two in the corner of the lunchroom, oblivious to the awed glances sticking to him like glue. He pulls out the rusty chair, it squeaking as it complied with his will. I stand, waiting for him to sit down, my form awkwardly lingering by his side. He gestures towards the chair, realization coming upon me as I find out that he actually wants me to sit down. Blushingly I obey his command, flattered that a boy would actually do that for me. Xavier huffs to the other chair. Glancing at me, he asks quietly, \"why is everyone looking at us?\" \"Because you just voiced their opinion,\" I whisper back. \"I'm surprised no one else has,\" he snorts as he surveys the food before him, \"this is gross.\" I take my spoon, dipping it into the food, raising it to my lips. With a forced swallow, I gag down the bit of food, sighing with relief as it graces my dreadfully empty stomach. No matter how disgusting the food is, I need to choke it down. Xavier watches me as I eat, a grimace decorating his face. \"Why are you eating that?\" he asks, pure disgust in his features. I shrug, though the truth is that this is almost all I get to eat every day. If I tell Xavier that, though, he will have a fit. He tilts his head slightly as he surveys me, watching me scarf down the catastrophe. \"You have to eat it, don't you?\" he guesses correctly as I savor every piece, each bit making the horrible feeling in my stomach lighten. I nod my head, taking a swig of my milk with tender fingers. After another silence, I finally finish my lunch, feeling like a pig for gobbling it down so fast. \"Can... I have your milk, Xavier?\" I question, looking pointedly at his unopened carton. \"Sure. Why not?\" he replies, drawing humor from the fact that I actually want his food. The corner of his mouth turns up as he shoves his whole tray towards me, my eyes lighting up as I realize that I just might have enough to eat today. I start in on this new bit of food, focusing on the warmth it will give in my stomach, not the nasty taste it offers. I feel despicable. I even had to ask the wolfboy for food. \"Thank you,\" I tilt my head slightly, knowing that I seem like a starving animal. The pull for food, however, is more powerful than any other force, and that is the one driving me right now. \"Does that... orphanage not give you any food?\" he probes, a little angrily. I just stare at him, unwilling to tell him the answer. A furious light is in his eyes, anger in his tone. \"Mona,\" he says firmly, \"don't eat that.\" He grabs both trays, standing up and putting them in the disposal. As he troops back over to me, dozens of hungry eyes follow him, annoying me immensely for some strange reason. I can feel tons of stares on my own back as well. Many whispers erupt around me, probably along the lines of \"the loser shouldn't be sitting by that hot guy,\" or \"let's bet to see how long it will be before he ditches her.\" Subconsciously, I slump a little, hoping their gazes will eventually leave me. But they linger, stirring up my discomfort and their jeers. Xavier passes me and disappears through the doors, leaving me stranded on our island for two. I suddenly realize that I now feel terribly lonely, more than I could have anticipated. Is this how I usually feel when I’m eating in the lunchroom alone? Two days ago, before all this stuff happened, feels almost like a distant memory. After a couple of agonizing minutes, Xavier enters the lunchroom again carrying two trays of steaming hot steak. He walks to my side, placing one tray in front of me and one in front of his seat. My mouth hits my knees as I examine the food. Steak is my favorite type of food—a delicacy that I developed a taste for in childhood—and this one looks especially delicious. \"Thank you so much,\" I say gushingly, breaking out into a smile. I take the silver knife beside the steak and dig in, wondering just how he managed to get this yummy food. He just stares at me as I gobble down the delicious meat, a tiny smile on his face. \"Don't thank me,\" he says quietly, \"just be happy.\" \"Oh, I am,\" I reassure him as I delve my fork deeper into the delicious entree. \"Obviously the way to your heart is through food,\" Xavier laughingly comments. In a moment of vulnerability, I laugh with him, my voice carrying across the room. Then I remember that I am not supposed to even smile in Xavier's presence. However, I have no time to wipe off my grin, for the biggest fish in the sea is swimming our way. In other words, Sidney Richards, two of her girls following behind her as backup. I don't even know their names, nor does most of the school's population. They are just known as Sidney's girls, only good for fake laughs and compliments. Just what Sidney needs. She troops over to us from her royal throne, flipping her blonde hair back from her face every few seconds, confidently strutting in her five-inch tall golden pumps. With a skirt about five inches above the dress code requirements and a blouse with a bit too many buttons undone, she has successfully secured the stares of every boy in school. Finally reaching our table, she cast Xavier a smile not unlike the one she used a couple of hours ago. \"Hey,\" she tries to make her voice smooth and sweet, \"I'm Sidney, and these are two of my girls.\" I almost laugh when I notice that even Sidney doesn't say their names. Xavier takes another bite of his delicious steak, and then looks up into Sidney's most-likely-modified face. \"You probably know my name,\" he says plainly, clearly uninterested. Sidney looks surprised, but she quickly recovers, reaching to the end of her now mini-skirt and fingering it, trying to draw his attention to her bronzed thighs that are muscular, yet slender. He doesn't notice her efforts, looking to the ceiling, then back at his delectable steak. \"Do you want to sit with us?\" she offers quickly, \"away from this reject?\" I wince at the word reject, at the way she doesn't even look at me, as if I am worth nothing. Away in the background, I see three spots left open, one for Sidney and two for her girls. \"There's no spots,\" he tries to evade a direct answer, but that doesn't stop Sidney. With a snap of her fingers, an a-list jock is immediately dismissed, degraded to a b status. Now there is Ian, two other jocks, and one of her girls sitting at the table. \"For you,\" she tells him, a seductive expression gracing her features, \"there is always a spot.\" \"I decline,\" he says abruptly, digging back into his meat. Sidney just stands, her mouth in a perfectly lip-glossed \"o\". \"B-but-t,\" she stutters, \"no one ever declines!\" Her words are forced, cheerfulness evaporating. I see a sliver of doubt enter her, a drop of low esteem slipping into her bloodstream. \"Well,\" he says after wiping his mouth with a napkin, \"I am not no one. I can do whatever the crap I want. And right now, I don't want to sit at your table.\" Her eyes widen, her voice strained. The whole lunchroom is staring at us, and I suddenly feel as if we are under a spotlight, unable to escape from it. \"So you are just going to sit with this loser?\" she finally casts a hate filled glare at my form. Abruptly, I start to shiver as I am turned to ice by her gaze. I can tell, at that moment, that she wants me completely and utterly dead. Xavier stares at her face, not once wavering. \"Please, Cindy-\" \"Sidney,\" she dryly corrects, most likely a first for her. \"Sorry,\" he apologizes, and then continues, \"It’s just that Mona will be alone if I leave her to go with you, and I can't allow that.\" He speaks calmly and gentlemanly, respect now in his tone. I blush at his words, the redness blooming on my slightly pale cheeks. Sidney glances at me, as if she was really looking at me for the first time. \"Mona,\" she murmurs to herself, as if she was trying to remember my name. Then she perks up and smiles once more at Xavier. \"Okay then,\" she says, \"maybe another time.\" With another snap of her fingers, all three of them turn and start strutting towards the royalty table. However, when Xavier's head is turned, she looks back and shoots me a glance of pure loathing. The shivers begin again; creeping up and down my spines, chilling me to the bone. I return my gaze to Xavier finally, my fork lingering over the last bite of steak. \"Are you not hungry?\" he asks curiously. I barely shake my head, the coldness freezing me silent. I eat the last piece, chewing it robotically. Suddenly, a warm hand encircles mine, bringing me everlasting warmth. Xavier propels my hand towards his meat, stabbing a juicy piece with my fork. \"Try this,\" he softly suggests. Drawing my hand and fork towards my face, he prompts me to eat it, awakening butterflies in my stomach. I am now a giant red tomato, with cheeks as red as a fire engine. \"Is it good?\" he asks, smiling, gently releasing my arm from his grip. Girls all across the lunchroom stare in envy and disgust at my form, Xavier's fan club probably already planning an ambush. \"Yes,\" I murmur, distracted by the way his eyes sparkle in the light. His meat is a little different, yet just as good. Embarrassment flickers across my features as I realize that I am staring. Xavier chuckles, and then shoots me a wink. \"I can't wait to introduce you to Wes,\" he laughs, \"he will have you melting into a puddle on the floor.\" \"Wes?\" I ask curiously. \"Only the biggest flirt in the whole world,\" he smiles, \"you'll meet him at the mansion after school.\" \"Oh really…\" I say, not quite grasping his words. Then, I suddenly understand. \"What mansion?! I never heard you talk about going to a mansion!\" \"Um, Mona? I told you about it before we got to school,\" he clarifies, my lack of memory surprising him. I scoff, my red hair waving slightly, \"Oh yeah, I remember... but you weren't serious, were you?\" \"Of course I was,\" he says seriously. I start to laugh, merry pearls of joy that reverberates around the lunchroom. \"There is no way you are taking me there,\" I reply. I am NOT going to a mansion alone with Xavier. For all I know, he might kill me in the forest and eat me. Well, I guess that would defeat the purpose of saving me from definite death, but still. \"You wanna bet?\" he asks dangerously, his eyes alight. I look at the floor, not wanting to say anything. If I do spit out a word, he might pick me up and carry me out of the lunchroom to the mansion right now, in front of the whole school. Yep. Silence is best right now. And careful planning, of course. I'll just escape from him...\n"
     ]
    }
   ],
   "source": [
    "print(paragraphs[0])"
   ]
  },
  {
   "cell_type": "markdown",
   "metadata": {
    "id": "hlAOeCcM9_oV"
   },
   "source": [
    "### Clustering technique based on next token\n",
    "- Extract random 4000 non-repeating unique tokens and cluster them based on next token"
   ]
  },
  {
   "cell_type": "markdown",
   "metadata": {
    "id": "uJVmHP_gUMxt"
   },
   "source": [
    "# Model: GPT-2"
   ]
  },
  {
   "cell_type": "code",
   "execution_count": 23,
   "metadata": {
    "id": "lv5HdpL6UJa7"
   },
   "outputs": [],
   "source": [
    "from transformers import GPT2Tokenizer, GPT2LMHeadModel\n",
    "# initialize GPT-2\n",
    "tokenizer = GPT2Tokenizer.from_pretrained(\"gpt2\")\n",
    "tokenizer.pad_token = tokenizer.eos_token\n",
    "model = GPT2LMHeadModel.from_pretrained(\n",
    "            \"gpt2\",\n",
    "            output_hidden_states=True\n",
    "         ).eval().cuda()\n"
   ]
  },
  {
   "cell_type": "markdown",
   "metadata": {
    "id": "Du5fc5lHcAwU"
   },
   "source": [
    "# Extract the Final Layer hidden state for the last token in each paragraph\n",
    "\n",
    "- Extract the final layer in LLM which performs the softmax. (MLP or Fully connected NN)\n",
    "- Now perform classification to predict the next word for a given input vector.\n",
    "- Now count the number of these points inside each cluster and do the similar statistics. (Both old and New)\n",
    "\n",
    "\n",
    "\n",
    "- extract the final-layer hidden state tensor: last_hidden [B, T, 768]\n",
    "- extract the next token logits: logits [B, T, |V|].\n",
    "- locate the last real token in every sequence using the attention-mask count (last_idx).\n"
   ]
  },
  {
   "cell_type": "code",
   "execution_count": 24,
   "metadata": {
    "colab": {
     "base_uri": "https://localhost:8080/"
    },
    "id": "7lJIzgG9I_Kl",
    "outputId": "08ae2585-bc32-459c-c5e9-14321970ceb3"
   },
   "outputs": [
    {
     "name": "stderr",
     "output_type": "stream",
     "text": [
      "Embedding: 100%|██████████| 40254/40254 [48:44<00:00, 13.77it/s]"
     ]
    },
    {
     "name": "stdout",
     "output_type": "stream",
     "text": [
      "Unique current-token IDs seen: 7,844\n"
     ]
    },
    {
     "name": "stderr",
     "output_type": "stream",
     "text": [
      "\n"
     ]
    }
   ],
   "source": [
    "import torch.nn.functional as F\n",
    "# make sure one record per unique current token ID\n",
    "token_records = {}\n",
    "\n",
    "BATCH = 16\n",
    "for i in tqdm(range(0, len(paragraphs), BATCH), desc=\"Embedding\"):\n",
    "    batch = paragraphs[i:i+BATCH]\n",
    "    inp = tokenizer(batch, return_tensors=\"pt\",\n",
    "                    padding=True, truncation=True, max_length=512).to(\"cuda\")\n",
    "    with torch.no_grad():\n",
    "        out = model(**inp)\n",
    "\n",
    "    last_hidden = out.hidden_states[-1]      # [B, T, 768]\n",
    "    logits      = out.logits                 # [B, T, |V|]\n",
    "    last_idx    = inp[\"attention_mask\"].sum(dim=1) - 1\n",
    "\n",
    "    for j, idx in enumerate(last_idx.tolist()):\n",
    "        cur_token_id  = inp[\"input_ids\"][j, idx].item()\n",
    "        # if already have the token ID in token records\n",
    "        if cur_token_id in token_records:\n",
    "            continue\n",
    "\n",
    "        vec           = last_hidden[j, idx, :].cpu().numpy()\n",
    "        pred_next_id  = torch.argmax(logits[j, idx, :]).item()\n",
    "        pred_prob     = F.softmax(logits[j, idx, :], dim=-1)[pred_next_id].item()\n",
    "        token_records[cur_token_id] = (vec, pred_next_id, pred_prob, batch[j])\n",
    "\n",
    "print(f\"Unique current-token IDs seen: {len(token_records):,}\")"
   ]
  },
  {
   "cell_type": "code",
   "execution_count": 26,
   "metadata": {
    "colab": {
     "base_uri": "https://localhost:8080/"
    },
    "id": "0whVFNlpUnEf",
    "outputId": "ed14631b-0ae5-4868-a3c5-8ef467a81612"
   },
   "outputs": [
    {
     "name": "stdout",
     "output_type": "stream",
     "text": [
      "Number of unique tokens as sample: 7,844 (target = 7,844)\n"
     ]
    }
   ],
   "source": [
    "#tokens to keep\n",
    "import random\n",
    "\n",
    "TARGET_TOKENS = 7844\n",
    "all_ids = list(token_records.keys())\n",
    "\n",
    "random.seed(42)\n",
    "sampled_ids = random.sample(all_ids, TARGET_TOKENS)\n",
    "\n",
    "print(f\"Number of unique tokens as sample: {len(sampled_ids):,} (target = {TARGET_TOKENS:,})\")\n"
   ]
  },
  {
   "cell_type": "code",
   "execution_count": 27,
   "metadata": {
    "colab": {
     "base_uri": "https://localhost:8080/"
    },
    "id": "tmrmYCrEXzzS",
    "outputId": "7d476739-68e3-4523-a644-c8cc4992620f"
   },
   "outputs": [
    {
     "name": "stdout",
     "output_type": "stream",
     "text": [
      "Number of clusters created (unique predicted-next IDs): 1512\n"
     ]
    }
   ],
   "source": [
    "# Cluster by predicted next-token ID\n",
    "from collections import defaultdict\n",
    "clusters_by_next   = defaultdict(list)\n",
    "paragraphs_by_next = defaultdict(list)\n",
    "\n",
    "for tid in sampled_ids:\n",
    "    vec, next_id, prob, para = token_records[tid]\n",
    "    clusters_by_next[next_id].append(vec)\n",
    "    paragraphs_by_next[next_id].append(para)\n",
    "\n",
    "print(f\"Number of clusters created (unique predicted-next IDs): {len(clusters_by_next)}\")\n"
   ]
  },
  {
   "cell_type": "code",
   "execution_count": 28,
   "metadata": {
    "id": "6PSqInz8kljK"
   },
   "outputs": [],
   "source": [
    "sizes_and_ids = sorted(((len(v), nid) for nid, v in clusters_by_next.items()),\n",
    "                       reverse=True)\n",
    "freqs = np.array([s for s, _ in sizes_and_ids])\n"
   ]
  },
  {
   "cell_type": "code",
   "execution_count": 29,
   "metadata": {
    "colab": {
     "base_uri": "https://localhost:8080/"
    },
    "id": "OkYVibXNwaR8",
    "outputId": "2fed8910-553a-411d-b1ce-358c9f8cf357"
   },
   "outputs": [
    {
     "name": "stdout",
     "output_type": "stream",
     "text": [
      "\n",
      "Predicted-token probability stats (sample of 7844 tokens)\n",
      "  • max  : 0.9999\n",
      "  • min  : 0.0075\n",
      "  • mean : 0.2990\n"
     ]
    }
   ],
   "source": [
    "probs_list = [token_records[tid][2] for tid in sampled_ids]\n",
    "\n",
    "print(f\"\\nPredicted-token probability stats \"\n",
    "      f\"(sample of {len(sampled_ids)} tokens)\")\n",
    "print(f\"  • max  : {max(probs_list):.4f}\")\n",
    "print(f\"  • min  : {min(probs_list):.4f}\")\n",
    "print(f\"  • mean : {np.mean(probs_list):.4f}\")"
   ]
  },
  {
   "cell_type": "code",
   "execution_count": 30,
   "metadata": {
    "colab": {
     "base_uri": "https://localhost:8080/"
    },
    "id": "9LaZmX9Yoz1y",
    "outputId": "c184cec2-c997-402c-cab9-6d82238eab4f"
   },
   "outputs": [
    {
     "name": "stdout",
     "output_type": "stream",
     "text": [
      "\n",
      "Top-40 predicted-next tokens by cluster size:\n",
      "Rank │ TokID │ Size │ Decoded token\n",
      "─────┼───────┼──────┼────────────────────────\n",
      "   1 │    13 │ 1197 │ '.'\n",
      "   2 │    11 │  866 │ ','\n",
      "   3 │   198 │  376 │ '\\\\n'\n",
      "   4 │  3226 │  251 │ ' Of'\n",
      "   5 │   286 │  185 │ ' of'\n",
      "   6 │   290 │  154 │ ' and'\n",
      "   7 │   284 │  134 │ ' to'\n",
      "   8 │  1675 │  127 │ ' To'\n",
      "   9 │   383 │  117 │ ' The'\n",
      "  10 │   357 │  102 │ ' ('\n",
      "  11 │   262 │  101 │ ' the'\n",
      "  12 │   338 │   99 │ \"'s\"\n",
      "  13 │    12 │   92 │ '-'\n",
      "  14 │   314 │   90 │ ' I'\n",
      "  15 │   373 │   58 │ ' was'\n",
      "  16 │   843 │   57 │ ' And'\n",
      "  17 │   317 │   56 │ ' A'\n",
      "  18 │  8920 │   53 │ ' Was'\n",
      "  19 │   554 │   47 │ ' In'\n",
      "  20 │    30 │   45 │ '?'\n",
      "  21 │    25 │   44 │ ':'\n",
      "  22 │   326 │   41 │ ' that'\n",
      "  23 │  1148 │   40 │ ' Is'\n",
      "  24 │   257 │   39 │ ' a'\n",
      "  25 │   366 │   38 │ ' \"'\n",
      "  26 │   287 │   38 │ ' in'\n",
      "  27 │   607 │   37 │ ' her'\n",
      "  28 │   502 │   37 │ ' me'\n",
      "  29 │   329 │   37 │ ' for'\n",
      "  30 │   318 │   37 │ ' is'\n",
      "  31 │   351 │   36 │ ' with'\n",
      "  32 │ 15176 │   35 │ ' Were'\n",
      "  33 │   632 │   35 │ ' It'\n",
      "  34 │   306 │   34 │ 'ly'\n",
      "  35 │  2399 │   33 │ ' His'\n",
      "  36 │   526 │   32 │ '.\"'\n",
      "  37 │     1 │   30 │ '\"'\n",
      "  38 │  1550 │   29 │ ' On'\n",
      "  39 │   683 │   29 │ ' him'\n",
      "  40 │   345 │   29 │ ' you'\n"
     ]
    }
   ],
   "source": [
    "print(\"\\nTop-40 predicted-next tokens by cluster size:\\n\"\n",
    "      \"Rank │ TokID │ Size │ Decoded token\")\n",
    "print(\"─────┼───────┼──────┼────────────────────────\")\n",
    "for rank, (size, nid) in enumerate(sizes_and_ids[:40], 1):\n",
    "    tok_str = tokenizer.decode([nid]).replace(\"\\n\", \"\\\\n\")\n",
    "    print(f\"{rank:>4} │ {nid:>5} │ {size:>4} │ {tok_str!r}\")\n"
   ]
  },
  {
   "cell_type": "code",
   "execution_count": 31,
   "metadata": {
    "colab": {
     "base_uri": "https://localhost:8080/"
    },
    "id": "aqtpMn9Ko2Lh",
    "outputId": "39bd009f-796a-4382-e97e-1eadc363272a"
   },
   "outputs": [
    {
     "name": "stdout",
     "output_type": "stream",
     "text": [
      "\n",
      "First five paragraphs in each of the TOP-3 predicted tokens:\n",
      "\n",
      "▶ Rank 1 – token 13 '.' (cluster size 1197)\n",
      "   1. \"Mia?\" \"This is how I'm telling you\" I put my hand on his cheek and lean into his body until we have no room between us. I don't move my eyes from his. Then I see it click in his h…\n",
      "   2. \"It's alright.\" He said with a hint of a British accent…\n",
      "   3. \"I'm not the one you should be apologizing to.\" I said softly…\n",
      "   4. \"What the hell?\" Selena exclaimed once we were outside the castle. I could comment the same, but I was busy observing what was happening in front of me with wide eyes. The Joshalia…\n",
      "   5. ON the morning following the death of Kryganovski I was awakened at a very early hour by the heavy fall of rain upon the broad leaves of the palms in my veranda. I had enjoyed prof…\n",
      "\n",
      "▶ Rank 2 – token 11 ',' (cluster size 866)\n",
      "   1. Chapter One Assistant State’s Attorney Zac Hennings leaned back in his chair the second before a newspaper smacked against his desk. “If there’s any blowback on this,” Ray Gardner …\n",
      "   2. The moon had waned and the night was starless when the chimes of San Nicolò told three of the morning in low melodious tones like a voice from dreamland, breaking no slumber. Sudde…\n",
      "   3. \"Oh, how long will you be?\" I ask her, and she shrugs. \"Could I come?\" I mean I'll go out to the garden, with a book. I just don't want to be here alone.\" I say, a little embarasse…\n",
      "   4. Part IV (The Invalid) Pg 265 \"They Are Very Kind,\" Sighed the Patient…\n",
      "   5. I growled and stepped forward when Declan put his hand on my shoulder his eyes far away; seeing a vision, \"Watch.\" He whispered coming back to reality…\n",
      "\n",
      "▶ Rank 3 – token 198 '\\\\n' (cluster size 376)\n",
      "   1. Emergency Appointment: Very soon, 12/12/14…\n",
      "   2. Kristy Chung A Modified Little Red Riding Hood Tale…\n",
      "   3. Volume 2 (THE TRUE BASIS OF MORALITY) Pg 16…\n",
      "   4. One Slender Hand Across Her Bosom, Panting, But Not In The Least…\n",
      "   5. GEORGE RANDOLPH CHESTER THE EARLY BIRD A BUSINESS MAN'S LOVE STORY…\n",
      "\n"
     ]
    }
   ],
   "source": [
    "print(\"\\nFirst five paragraphs in each of the TOP-3 predicted tokens:\\n\")\n",
    "for rank, (size, nid) in enumerate(sizes_and_ids[:3], 1):\n",
    "    tok_str = tokenizer.decode([nid]).replace(\"\\n\", \"\\\\n\")\n",
    "    print(f\"▶ Rank {rank} – token {nid} {tok_str!r} (cluster size {size})\")\n",
    "    for i, para in enumerate(paragraphs_by_next[nid][:5], 1):\n",
    "        short = para.strip().replace(\"\\n\", \" \")[:180] + \"…\"\n",
    "        print(f\"   {i}. {short}\")\n",
    "    print()\n"
   ]
  },
  {
   "cell_type": "markdown",
   "metadata": {
    "id": "0G4_ssp605yX"
   },
   "source": [
    "# Plots\n"
   ]
  },
  {
   "cell_type": "code",
   "execution_count": 32,
   "metadata": {
    "colab": {
     "base_uri": "https://localhost:8080/",
     "height": 564
    },
    "id": "2QW5CRm6ouht",
    "outputId": "070a41db-5716-4d65-ca39-de91ff3a6cef"
   },
   "outputs": [
    {
     "data": {
      "image/png": "[encoded data removed]",
      "text/plain": [
       "<Figure size 1000x600 with 1 Axes>"
      ]
     },
     "metadata": {},
     "output_type": "display_data"
    }
   ],
   "source": [
    "import matplotlib.pyplot as plt\n",
    "from scipy.stats import linregress\n",
    "\n",
    "plt.figure(figsize=(10, 6))\n",
    "plt.plot(range(len(freqs)), freqs, marker='o')\n",
    "plt.title(\"Token count per cluster – GPT-2 next-token grouping\")\n",
    "plt.xlabel(\"Cluster index (sorted)\")\n",
    "plt.ylabel(\"Count of current-tokens\")\n",
    "plt.grid(True)\n",
    "plt.show()"
   ]
  },
  {
   "cell_type": "code",
   "execution_count": 33,
   "metadata": {
    "id": "CmaXzsPBX7rm"
   },
   "outputs": [],
   "source": [
    "import matplotlib.pyplot as plt\n",
    "from scipy.stats import linregress\n",
    "\n",
    "ranks = np.arange(1, len(freqs)+1)\n",
    "log_r, log_f = np.log10(ranks), np.log10(freqs)\n",
    "slope, intercept, r_val, p_val, _ = linregress(log_r, log_f)\n",
    "y_pred = slope * log_r + intercept"
   ]
  },
  {
   "cell_type": "code",
   "execution_count": 34,
   "metadata": {
    "colab": {
     "base_uri": "https://localhost:8080/",
     "height": 668
    },
    "id": "EY24jPkJX9dp",
    "outputId": "d4ed0731-c5f6-4705-e5a2-058ae78c3d98"
   },
   "outputs": [
    {
     "data": {
      "image/png": "[encoded data removed]",
      "text/plain": [
       "<Figure size 1000x600 with 1 Axes>"
      ]
     },
     "metadata": {},
     "output_type": "display_data"
    },
    {
     "name": "stdout",
     "output_type": "stream",
     "text": [
      "\n",
      "Regression Results:\n",
      "   - Slope: -0.8662\n",
      "   - Intercept: 2.5694\n",
      "   - R-squared: 0.8934\n",
      "   - P-value: 0.0000e+00\n"
     ]
    }
   ],
   "source": [
    "plt.figure(figsize=(10, 6))\n",
    "plt.scatter(log_r, log_f, alpha=0.8, label=\"Data\")\n",
    "plt.plot(log_r, y_pred, 'r-', label=f'Fit (slope={slope:.2f})')\n",
    "plt.title(\"Log-Log Plot – cluster sizes by predicted next token\")\n",
    "plt.xlabel(\"Log10(Rank)\")\n",
    "plt.ylabel(\"Log10(Cluster size)\")\n",
    "plt.grid(True, which=\"both\", ls=\"-\", alpha=0.2)\n",
    "plt.legend()\n",
    "\n",
    "# annotate regression stats\n",
    "txt_x = log_r.min() + (log_r.max() - log_r.min())*0.02\n",
    "txt_y = log_f.min() + (log_f.max() - log_f.min())*0.02\n",
    "plt.text(txt_x, txt_y,\n",
    "         f\"Slope: {slope:.4f}\\nIntercept: {intercept:.4f}\\n\"\n",
    "         f\"$R^2$: {r_val**2:.4f}\\nP-value: {p_val:.4e}\",\n",
    "         fontsize=12, bbox=dict(facecolor='white', alpha=0.5))\n",
    "plt.show()\n",
    "\n",
    "print(\"\\nRegression Results:\")\n",
    "print(f\"   - Slope: {slope:.4f}\")\n",
    "print(f\"   - Intercept: {intercept:.4f}\")\n",
    "print(f\"   - R-squared: {r_val**2:.4f}\")\n",
    "print(f\"   - P-value: {p_val:.4e}\")\n"
   ]
  }
 ],
 "metadata": {
  "accelerator": "GPU",
  "colab": {
   "gpuType": "A100",
   "machine_shape": "hm",
   "provenance": []
  },
  "kernelspec": {
   "display_name": "Python 3 (ipykernel)",
   "language": "python",
   "name": "python3"
  },
  "language_info": {
   "codemirror_mode": {
    "name": "ipython",
    "version": 3
   },
   "file_extension": ".py",
   "mimetype": "text/x-python",
   "name": "python",
   "nbconvert_exporter": "python",
   "pygments_lexer": "ipython3",
   "version": "3.9.13"
  }
 },
 "nbformat": 4,
 "nbformat_minor": 1
}
