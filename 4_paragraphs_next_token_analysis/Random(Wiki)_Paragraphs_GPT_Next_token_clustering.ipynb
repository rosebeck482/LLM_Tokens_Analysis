{
 "cells": [
  {
   "cell_type": "markdown",
   "metadata": {
    "id": "9EbPPjFtRNYb"
   },
   "source": [
    "# Dataset Used:\n",
    "[wikipedia-paragraphs](https://huggingface.co/datasets/agentlans/wikipedia-paragraphs) from Hugging Face\n"
   ]
  },
  {
   "cell_type": "markdown",
   "metadata": {
    "id": "q0nz0NE-Y2zQ"
   },
   "source": [
    "- What is the right way of clustering?\n",
    "- Is it based on the closeness or cosine similarity? What happens when we have more similar words, how can we cluster them?\n",
    "- Can we have a new clustering technique, based on the next token?\n"
   ]
  },
  {
   "cell_type": "code",
   "execution_count": null,
   "metadata": {
    "id": "CJZMrfu4aWMX"
   },
   "outputs": [],
   "source": [
    "pip install datasets"
   ]
  },
  {
   "cell_type": "code",
   "execution_count": 2,
   "metadata": {
    "colab": {
     "base_uri": "https://localhost:8080/",
     "height": 237,
     "referenced_widgets": [
      "272623d86ecc4e208b2a51749d254c4c",
      "53aba77be0b74828b44522247eceadef",
      "13bd0f744a474ad18f6984c413e47981",
      "0284d6e92d154b0d9c5bb3dd4a8d7c3c",
      "c9945908e9284f2581beadf782c9825e",
      "6944973464bc4e66b804801276994fb6",
      "f4e30d7f236a499ca40716f3f7738842",
      "5bb3a7e161524168afc760fa09debdb2",
      "9fe55591b81a472e821fe40a948dec1c",
      "2eaed37596dd4690b6bc37ec868524f4",
      "c782d385e63f445c9e621826b893d610",
      "bdc586d7ec80432ba620e47df27a6fe1",
      "722a70ba74d54346b49059e21e5d923e",
      "25f226337e7c45a8bb76720ce23e0a19",
      "e92621debf4c442b9fdbbf18cacf1bdd",
      "c77a300ce44a4514919726490268b1a7",
      "d3d7bd4152df41b78f76f71fb0f0ac59",
      "db2a8809d4584c11a86b5ee19bf6af76",
      "9f30eb623f3c43748dd74274b7f38153",
      "19f1749d65ae4dbaa87bebdf98d422de",
      "42b139df4dd241bf855b1060a5e7ba00",
      "99e0b9757200423c9086f6d3a1a5a44e",
      "1136126fcc7e4038a3b7f3806d47b128",
      "7bfa6a9afc394532a21ed0f8c872133a",
      "6a96d8bfc06543f3b0b8e96e9c6deaef",
      "0ce6c3832d204a8880259149757faf94",
      "e77b647d075d4cbf8d5874e44bf0c288",
      "b45c4f59e38847db8fdd81987975608a",
      "f9a21667065c4bbab5f74ed7c755dc1e",
      "7c603c3cd66c41aa9b23f646d32976ed",
      "c795d629affb4b13831f8d0633edce18",
      "18485bbb5c8f4e5ab47567c2a51bf9d5",
      "969fc04a029d4cdbb1bb40e0a7efca10"
     ]
    },
    "id": "RTSp2Bu2RY59",
    "outputId": "c8d2dd50-5dd4-4494-d8b6-64540198b27c"
   },
   "outputs": [
    {
     "name": "stderr",
     "output_type": "stream",
     "text": [
      "/usr/local/lib/python3.11/dist-packages/huggingface_hub/utils/_auth.py:94: UserWarning: \n",
      "The secret `HF_TOKEN` does not exist in your Colab secrets.\n",
      "To authenticate with the Hugging Face Hub, create a token in your settings tab (https://huggingface.co/settings/tokens), set it as secret in your Google Colab and restart your session.\n",
      "You will be able to reuse this secret in all of your notebooks.\n",
      "Please note that authentication is recommended but still optional to access public models or datasets.\n",
      "  warnings.warn(\n"
     ]
    },
    {
     "data": {
      "application/vnd.jupyter.widget-view+json": {
       "model_id": "272623d86ecc4e208b2a51749d254c4c",
       "version_major": 2,
       "version_minor": 0
      },
      "text/plain": [
       "README.md:   0%|          | 0.00/3.21k [00:00<?, ?B/s]"
      ]
     },
     "metadata": {},
     "output_type": "display_data"
    },
    {
     "data": {
      "application/vnd.jupyter.widget-view+json": {
       "model_id": "bdc586d7ec80432ba620e47df27a6fe1",
       "version_major": 2,
       "version_minor": 0
      },
      "text/plain": [
       "train.jsonl.gz:   0%|          | 0.00/11.1M [00:00<?, ?B/s]"
      ]
     },
     "metadata": {},
     "output_type": "display_data"
    },
    {
     "data": {
      "application/vnd.jupyter.widget-view+json": {
       "model_id": "1136126fcc7e4038a3b7f3806d47b128",
       "version_major": 2,
       "version_minor": 0
      },
      "text/plain": [
       "Generating train split: 0 examples [00:00, ? examples/s]"
      ]
     },
     "metadata": {},
     "output_type": "display_data"
    }
   ],
   "source": [
    "from datasets import load_dataset\n",
    "\n",
    "ds = load_dataset(\"agentlans/wikipedia-paragraphs\")"
   ]
  },
  {
   "cell_type": "code",
   "execution_count": 3,
   "metadata": {
    "id": "MQjJR3qqgYFJ"
   },
   "outputs": [],
   "source": [
    "import numpy as np\n",
    "import torch\n",
    "from tqdm import tqdm"
   ]
  },
  {
   "cell_type": "code",
   "execution_count": 4,
   "metadata": {
    "colab": {
     "base_uri": "https://localhost:8080/",
     "height": 0
    },
    "id": "11puqWI5BMlf",
    "outputId": "03e2d968-c96f-4282-88e9-6755bc68b492"
   },
   "outputs": [
    {
     "name": "stdout",
     "output_type": "stream",
     "text": [
      "Loaded 21,811 paragraphs\n"
     ]
    }
   ],
   "source": [
    "def load_paragraphs_hf():\n",
    "    ds = load_dataset(\"agentlans/wikipedia-paragraphs\", split=\"train\")\n",
    "    return ds[\"text\"]\n",
    "\n",
    "paragraphs = load_paragraphs_hf()\n",
    "print(f\"Loaded {len(paragraphs):,} paragraphs\")"
   ]
  },
  {
   "cell_type": "code",
   "execution_count": 5,
   "metadata": {
    "colab": {
     "base_uri": "https://localhost:8080/",
     "height": 0
    },
    "id": "FZ6jlIfDbQeS",
    "outputId": "b7ca094d-981a-4ae0-c060-687eb81d0bce"
   },
   "outputs": [
    {
     "name": "stdout",
     "output_type": "stream",
     "text": [
      "Perhaps the first public statement on the matter to be both serious and strong came from Catherine II (Catherine the Great), whose liberal views were consistent with her acceptance of the Enlightenment. In her Nakaz of 1767, the empress expressed disdain for the death penalty, considering it to be improper, adding: \"In the usual state of the society, the death penalty is neither useful nor needed.\" However, an explicit exception was still allowed for the case of someone who, even while convicted and incarcerated, \"still has the means and the might to ignite public unrest\". This specific exception applied to mutineers of Pugachev's Rebellion in 1775. Consistent with Catherine's stance, the next several decades marked a shift in public perception against the death penalty. In 1824, the very existence of such a punishment was among the reasons for the legislature's refusal to approve a new version of the Penal Code. Just one year later, the Decembrist revolt failed, and a court sentenced 36 of the rebels to death. Nicholas I's decision to commute all but five of the sentences was highly unusual for the time, especially taking into account that revolts against the monarchy had almost universally resulted in an automatic death sentence, and was perhaps due to society's changing views of the death penalty. By the late 1890s, capital punishment for murder was virtually never carried out, but substituted with 10 to 15 years imprisonment with hard labor, although it still was carried out for treason . However, in 1910, capital punishment was reintroduced and expanded, although still very seldom used.\n"
     ]
    }
   ],
   "source": [
    "print(paragraphs[0])"
   ]
  },
  {
   "cell_type": "markdown",
   "metadata": {
    "id": "hlAOeCcM9_oV"
   },
   "source": [
    "### Clustering technique based on next token\n",
    "- Extract random 4000 non-repeating unique tokens and cluster them based on next token"
   ]
  },
  {
   "cell_type": "markdown",
   "metadata": {
    "id": "uJVmHP_gUMxt"
   },
   "source": [
    "# Model: GPT-2"
   ]
  },
  {
   "cell_type": "code",
   "execution_count": 6,
   "metadata": {
    "colab": {
     "base_uri": "https://localhost:8080/",
     "height": 330,
     "referenced_widgets": [
      "9cbd8c38f9604737b5127bf6305f28be",
      "d113de496722436093989d72ad82627b",
      "caaa237cb6a14c728c19c2b9d57ea135",
      "39a15ec450274b1c90bd1486b49b4cc5",
      "28f6d1d70311486cb9badc7be15885fa",
      "046f42419c7c427eb4deeb6fed72ec38",
      "1ff9c49682b9425bb321f0bbd089055c",
      "bd0ebd05345347fc930549eeb228c7bc",
      "2e3aba776b414835b2322f2843b64e49",
      "47e21d42c1704140a44aab31940baf87",
      "50c2a5a5f0184af594a8b9d7a29de9d7",
      "eb3a51dba51449408c32c082d3b3284c",
      "feb77fad879b44499aac7ca22afbae8e",
      "411639c5182c445b9701cad9c001323f",
      "609047b159a54a4da879ca19779b889c",
      "c6f0230d8808469a9009ea90c078f774",
      "caa53250d0fd4825a64e5261487bd242",
      "944130f935444cce846590ddb2be54a4",
      "ad258d196aa94c32833db5a0d722027d",
      "a0223a202f204012b800b09786777540",
      "1b9ea6edddc64d72963514c5d822384d",
      "c4340f4dc244412793ae6e009ec3fad9",
      "eaae49e2cd9e46af859ae43f4756329a",
      "5f4c113497124bfba357b2d4bc1b9c7d",
      "88eed3b968b74557a477067c2f018fda",
      "5f23a8fef86f4f5bb0d69a348d7877d1",
      "f8f5263fea9b41e0bac6d76321e1ce3b",
      "791788dc1c514046aca6f966d9b3720b",
      "3543903a5cda4b9d83baefbff622b395",
      "e037420c7ebd4af2b71fdc0ade9fb72e",
      "fc6b75ebab1f4b3b8cb68ac655711270",
      "da54c4e5c68a4839a8299c5aa092c609",
      "01754b528055435ab161b1a9ef59d653",
      "d0a266ab41034003957482ff131c48c8",
      "827de2e42d0f4d6198b38ed8d548f83d",
      "63edb9361629445a95d12fbff3224b26",
      "87207ecebb8e44bd8e1d1b3cf492d7a1",
      "7c8b62546ce34f17896736fd61dbd366",
      "f190ecdcd64f423381630c7b453fdbb8",
      "ca236f538a5340caa9eddd356297382b",
      "f5a06d847f704c2b9aa844838c24bd42",
      "91c5e04b1a2841a0bf9b7ceb84046d53",
      "88c9c0a5d44b40169d349ed3ac10f4e0",
      "8c73601ae9264b2e86e44aa5de989d8d",
      "d9552203ef544585b8fd151915091671",
      "572c0ac0dc4e444dabd9ce1b99141bc3",
      "bf9488b1f6414b7395fa3fd9367c4c40",
      "cff274e73b03460ba7332d4197e0c33c",
      "7f243bf4ce58456a9076251bae7752bf",
      "c94b601bfd144bce85ec661b863dd10e",
      "c9c6cbdfcdc34e3a9a2a6b6652228de0",
      "7a63aaadc351429f83192445a0f5cfbe",
      "3e2117bc4b7f4675991e8f06be563df4",
      "793ddbf2e1394b2692c2cb052b40046e",
      "bee42d6c7a3a49629c1d60fb4f1ec264",
      "b58c70c765e64b0c8616ba6efd33d5fb",
      "460bf78f99084f31b393c8d6648ba796",
      "0e1cc6335c8940a29338181df82284f4",
      "001fa8c0d7094c4eb2a695bb86ca95fd",
      "e1d387b7ce0c44c5b5f0c987df8939a0",
      "eeb12e95b3dc44c5938f631b7db2e824",
      "07ff894142aa4057846f6b8c4be322a8",
      "cc5194b39be54a21a78d1ad3c2cf08a0",
      "717fe21606e14507a4b78ac76796aa8c",
      "c01386ef842b4fd59c2fce57e395ba10",
      "d44228e741db49b29ef4415457c09471",
      "4f90e40d65d4460db478b45a002a6545",
      "b0c3debf874741f09966e8b1aa8afd3c",
      "3b6c5fbef16147908b412dc78c1c5efd",
      "ce267dd7c1de4205824f2b0e6d0c10f0",
      "08f003134ea8425dabb2a60fa9c7e8fe",
      "e82b315484a24600992f6583519e885a",
      "a6ea88a4de6740d1befb492fb243385a",
      "9fdd306fc1a54b299df75f707d48ee47",
      "88a0c74929444b47b5d62f9c78973bb6",
      "d60eaf710c2943be88884e2e13728840",
      "d0fbda887dc84f2bb31f9b0bac4c2890"
     ]
    },
    "id": "lv5HdpL6UJa7",
    "outputId": "b8166cf0-6462-4cf4-c525-707c92154215"
   },
   "outputs": [
    {
     "data": {
      "application/vnd.jupyter.widget-view+json": {
       "model_id": "9cbd8c38f9604737b5127bf6305f28be",
       "version_major": 2,
       "version_minor": 0
      },
      "text/plain": [
       "tokenizer_config.json:   0%|          | 0.00/26.0 [00:00<?, ?B/s]"
      ]
     },
     "metadata": {},
     "output_type": "display_data"
    },
    {
     "data": {
      "application/vnd.jupyter.widget-view+json": {
       "model_id": "eb3a51dba51449408c32c082d3b3284c",
       "version_major": 2,
       "version_minor": 0
      },
      "text/plain": [
       "vocab.json:   0%|          | 0.00/1.04M [00:00<?, ?B/s]"
      ]
     },
     "metadata": {},
     "output_type": "display_data"
    },
    {
     "data": {
      "application/vnd.jupyter.widget-view+json": {
       "model_id": "eaae49e2cd9e46af859ae43f4756329a",
       "version_major": 2,
       "version_minor": 0
      },
      "text/plain": [
       "merges.txt:   0%|          | 0.00/456k [00:00<?, ?B/s]"
      ]
     },
     "metadata": {},
     "output_type": "display_data"
    },
    {
     "data": {
      "application/vnd.jupyter.widget-view+json": {
       "model_id": "d0a266ab41034003957482ff131c48c8",
       "version_major": 2,
       "version_minor": 0
      },
      "text/plain": [
       "tokenizer.json:   0%|          | 0.00/1.36M [00:00<?, ?B/s]"
      ]
     },
     "metadata": {},
     "output_type": "display_data"
    },
    {
     "data": {
      "application/vnd.jupyter.widget-view+json": {
       "model_id": "d9552203ef544585b8fd151915091671",
       "version_major": 2,
       "version_minor": 0
      },
      "text/plain": [
       "config.json:   0%|          | 0.00/665 [00:00<?, ?B/s]"
      ]
     },
     "metadata": {},
     "output_type": "display_data"
    },
    {
     "name": "stderr",
     "output_type": "stream",
     "text": [
      "Xet Storage is enabled for this repo, but the 'hf_xet' package is not installed. Falling back to regular HTTP download. For better performance, install the package with: `pip install huggingface_hub[hf_xet]` or `pip install hf_xet`\n",
      "WARNING:huggingface_hub.file_download:Xet Storage is enabled for this repo, but the 'hf_xet' package is not installed. Falling back to regular HTTP download. For better performance, install the package with: `pip install huggingface_hub[hf_xet]` or `pip install hf_xet`\n"
     ]
    },
    {
     "data": {
      "application/vnd.jupyter.widget-view+json": {
       "model_id": "b58c70c765e64b0c8616ba6efd33d5fb",
       "version_major": 2,
       "version_minor": 0
      },
      "text/plain": [
       "model.safetensors:   0%|          | 0.00/548M [00:00<?, ?B/s]"
      ]
     },
     "metadata": {},
     "output_type": "display_data"
    },
    {
     "name": "stderr",
     "output_type": "stream",
     "text": [
      "/usr/local/lib/python3.11/dist-packages/transformers/generation/configuration_utils.py:820: UserWarning: `return_dict_in_generate` is NOT set to `True`, but `output_hidden_states` is. When `return_dict_in_generate` is not `True`, `output_hidden_states` is ignored.\n",
      "  warnings.warn(\n"
     ]
    },
    {
     "data": {
      "application/vnd.jupyter.widget-view+json": {
       "model_id": "4f90e40d65d4460db478b45a002a6545",
       "version_major": 2,
       "version_minor": 0
      },
      "text/plain": [
       "generation_config.json:   0%|          | 0.00/124 [00:00<?, ?B/s]"
      ]
     },
     "metadata": {},
     "output_type": "display_data"
    }
   ],
   "source": [
    "from transformers import GPT2Tokenizer, GPT2LMHeadModel\n",
    "# initialize GPT-2\n",
    "tokenizer = GPT2Tokenizer.from_pretrained(\"gpt2\")\n",
    "tokenizer.pad_token = tokenizer.eos_token\n",
    "model = GPT2LMHeadModel.from_pretrained(\n",
    "            \"gpt2\",\n",
    "            output_hidden_states=True\n",
    "         ).eval().cuda()\n"
   ]
  },
  {
   "cell_type": "markdown",
   "metadata": {
    "id": "Du5fc5lHcAwU"
   },
   "source": [
    "# Extract the Final Layer hidden state for the last token in each paragraph\n",
    "\n",
    "- Extract the final layer in LLM which performs the softmax. (MLP or Fully connected NN)\n",
    "- Now perform classification to predict the next word for a given input vector.\n",
    "- Now count the number of these points inside each cluster and do the similar statistics. (Both old and New)\n",
    "\n",
    "\n",
    "\n",
    "- extract the final-layer hidden state tensor: last_hidden [B, T, 768]\n",
    "- extract the next token logits: logits [B, T, |V|].\n",
    "- locate the last real token in every sequence using the attention-mask count (last_idx).\n"
   ]
  },
  {
   "cell_type": "code",
   "execution_count": 7,
   "metadata": {
    "colab": {
     "base_uri": "https://localhost:8080/",
     "height": 0
    },
    "id": "7lJIzgG9I_Kl",
    "outputId": "0d2aefbd-5f4e-4a5c-c6d2-9d646c32a0ee"
   },
   "outputs": [
    {
     "name": "stderr",
     "output_type": "stream",
     "text": [
      "Embedding: 100%|██████████| 1364/1364 [03:28<00:00,  6.55it/s]"
     ]
    },
    {
     "name": "stdout",
     "output_type": "stream",
     "text": [
      "Unique current-token IDs seen: 555\n"
     ]
    },
    {
     "name": "stderr",
     "output_type": "stream",
     "text": [
      "\n"
     ]
    }
   ],
   "source": [
    "import torch.nn.functional as F\n",
    "# make sure one record per unique current token ID\n",
    "token_records = {}\n",
    "\n",
    "BATCH = 16\n",
    "for i in tqdm(range(0, len(paragraphs), BATCH), desc=\"Embedding\"):\n",
    "    batch = paragraphs[i:i+BATCH]\n",
    "    inp = tokenizer(batch, return_tensors=\"pt\",\n",
    "                    padding=True, truncation=True, max_length=512).to(\"cuda\")\n",
    "    with torch.no_grad():\n",
    "        out = model(**inp)\n",
    "\n",
    "    last_hidden = out.hidden_states[-1]      # [B, T, 768]\n",
    "    logits      = out.logits                 # [B, T, |V|]\n",
    "    last_idx    = inp[\"attention_mask\"].sum(dim=1) - 1\n",
    "\n",
    "    for j, idx in enumerate(last_idx.tolist()):\n",
    "        cur_token_id  = inp[\"input_ids\"][j, idx].item()\n",
    "        # if already have the token ID in token records\n",
    "        if cur_token_id in token_records:\n",
    "            continue\n",
    "\n",
    "        vec           = last_hidden[j, idx, :].cpu().numpy()\n",
    "        pred_next_id  = torch.argmax(logits[j, idx, :]).item()\n",
    "        pred_prob     = F.softmax(logits[j, idx, :], dim=-1)[pred_next_id].item()\n",
    "        token_records[cur_token_id] = (vec, pred_next_id, pred_prob, batch[j])\n",
    "\n",
    "print(f\"Unique current-token IDs seen: {len(token_records):,}\")"
   ]
  },
  {
   "cell_type": "code",
   "execution_count": 21,
   "metadata": {
    "colab": {
     "base_uri": "https://localhost:8080/"
    },
    "id": "0whVFNlpUnEf",
    "outputId": "efba41d1-7e81-4b0e-af43-f79b7a6d4035"
   },
   "outputs": [
    {
     "name": "stdout",
     "output_type": "stream",
     "text": [
      "Number of unique tokens as sample: 555 (target = 555)\n"
     ]
    }
   ],
   "source": [
    "#tokens to keep\n",
    "import random\n",
    "\n",
    "TARGET_TOKENS = 555\n",
    "all_ids = list(token_records.keys())\n",
    "\n",
    "random.seed(42)\n",
    "sampled_ids = random.sample(all_ids, TARGET_TOKENS)\n",
    "\n",
    "print(f\"Number of unique tokens as sample: {len(sampled_ids):,} (target = {TARGET_TOKENS:,})\")\n"
   ]
  },
  {
   "cell_type": "code",
   "execution_count": 26,
   "metadata": {
    "colab": {
     "base_uri": "https://localhost:8080/"
    },
    "id": "tmrmYCrEXzzS",
    "outputId": "5841efb5-4d60-4d18-8611-ff038e91346a"
   },
   "outputs": [
    {
     "name": "stdout",
     "output_type": "stream",
     "text": [
      "Number of clusters created (unique predicted-next IDs): 203\n"
     ]
    }
   ],
   "source": [
    "# Cluster by predicted next-token ID\n",
    "from collections import defaultdict\n",
    "clusters_by_next   = defaultdict(list)\n",
    "paragraphs_by_next = defaultdict(list)\n",
    "\n",
    "for tid in sampled_ids:\n",
    "    vec, next_id, prob, para = token_records[tid]\n",
    "    clusters_by_next[next_id].append(vec)\n",
    "    paragraphs_by_next[next_id].append(para)\n",
    "\n",
    "print(f\"Number of clusters created (unique predicted-next IDs): {len(clusters_by_next)}\")\n"
   ]
  },
  {
   "cell_type": "code",
   "execution_count": 27,
   "metadata": {
    "id": "6PSqInz8kljK"
   },
   "outputs": [],
   "source": [
    "sizes_and_ids = sorted(((len(v), nid) for nid, v in clusters_by_next.items()),\n",
    "                       reverse=True)\n",
    "freqs = np.array([s for s, _ in sizes_and_ids])\n"
   ]
  },
  {
   "cell_type": "code",
   "execution_count": 28,
   "metadata": {
    "colab": {
     "base_uri": "https://localhost:8080/"
    },
    "id": "OkYVibXNwaR8",
    "outputId": "b3587a37-c83a-4405-dfae-59a62e9bc4e9"
   },
   "outputs": [
    {
     "name": "stdout",
     "output_type": "stream",
     "text": [
      "\n",
      "Predicted-token probability stats (sample of 555 tokens)\n",
      "  • max  : 0.9999\n",
      "  • min  : 0.0072\n",
      "  • mean : 0.3870\n"
     ]
    }
   ],
   "source": [
    "probs_list = [token_records[tid][2] for tid in sampled_ids]\n",
    "\n",
    "print(f\"\\nPredicted-token probability stats \"\n",
    "      f\"(sample of {len(sampled_ids)} tokens)\")\n",
    "print(f\"  • max  : {max(probs_list):.4f}\")\n",
    "print(f\"  • min  : {min(probs_list):.4f}\")\n",
    "print(f\"  • mean : {np.mean(probs_list):.4f}\")"
   ]
  },
  {
   "cell_type": "code",
   "execution_count": 29,
   "metadata": {
    "colab": {
     "base_uri": "https://localhost:8080/"
    },
    "id": "9LaZmX9Yoz1y",
    "outputId": "97d015db-8aea-4482-d7fe-abd9baf58dab"
   },
   "outputs": [
    {
     "name": "stdout",
     "output_type": "stream",
     "text": [
      "\n",
      "Top-40 predicted-next tokens by cluster size:\n",
      "Rank │ TokID │ Size │ Decoded token\n",
      "─────┼───────┼──────┼────────────────────────\n",
      "   1 │    13 │  101 │ '.'\n",
      "   2 │   383 │   46 │ ' The'\n",
      "   3 │   198 │   38 │ '\\\\n'\n",
      "   4 │    11 │   27 │ ','\n",
      "   5 │   262 │   19 │ ' the'\n",
      "   6 │   286 │   17 │ ' of'\n",
      "   7 │    12 │   14 │ '-'\n",
      "   8 │  1906 │   12 │ '–'\n",
      "   9 │   290 │   10 │ ' and'\n",
      "  10 │   366 │    9 │ ' \"'\n",
      "  11 │   284 │    9 │ ' to'\n",
      "  12 │   287 │    7 │ ' in'\n",
      "  13 │  1550 │    6 │ ' On'\n",
      "  14 │   554 │    6 │ ' In'\n",
      "  15 │ 10029 │    5 │ ' FC'\n",
      "  16 │   532 │    5 │ ' -'\n",
      "  17 │  8147 │    4 │ ' PA'\n",
      "  18 │   357 │    4 │ ' ('\n",
      "  19 │   326 │    4 │ ' that'\n",
      "  20 │  5595 │    3 │ ' •'\n",
      "  21 │  2901 │    3 │ ' July'\n",
      "  22 │    25 │    3 │ ':'\n",
      "  23 │     8 │    3 │ ')'\n",
      "  24 │     1 │    3 │ '\"'\n",
      "  25 │ 31944 │    2 │ 'frac'\n",
      "  26 │  3059 │    2 │ ' Sch'\n",
      "  27 │  1058 │    2 │ ' :'\n",
      "  28 │   767 │    2 │ ' 7'\n",
      "  29 │   422 │    2 │ ' from'\n",
      "  30 │   416 │    2 │ ' by'\n",
      "  31 │   373 │    2 │ ' was'\n",
      "  32 │   351 │    2 │ ' with'\n",
      "  33 │   347 │    2 │ ' B'\n",
      "  34 │   339 │    2 │ ' he'\n",
      "  35 │   319 │    2 │ ' on'\n",
      "  36 │   273 │    2 │ 'or'\n",
      "  37 │   257 │    2 │ ' a'\n",
      "  38 │    82 │    2 │ 's'\n",
      "  39 │    72 │    2 │ 'i'\n",
      "  40 │    64 │    2 │ 'a'\n"
     ]
    }
   ],
   "source": [
    "print(\"\\nTop-40 predicted-next tokens by cluster size:\\n\"\n",
    "      \"Rank │ TokID │ Size │ Decoded token\")\n",
    "print(\"─────┼───────┼──────┼────────────────────────\")\n",
    "for rank, (size, nid) in enumerate(sizes_and_ids[:40], 1):\n",
    "    tok_str = tokenizer.decode([nid]).replace(\"\\n\", \"\\\\n\")\n",
    "    print(f\"{rank:>4} │ {nid:>5} │ {size:>4} │ {tok_str!r}\")\n"
   ]
  },
  {
   "cell_type": "code",
   "execution_count": 30,
   "metadata": {
    "colab": {
     "base_uri": "https://localhost:8080/"
    },
    "id": "aqtpMn9Ko2Lh",
    "outputId": "d1489548-4fce-4acc-b303-b78e4caf310d"
   },
   "outputs": [
    {
     "name": "stdout",
     "output_type": "stream",
     "text": [
      "\n",
      "First five paragraphs in each of the TOP-3 predicted tokens:\n",
      "\n",
      "▶ Rank 1 – token 13 '.' (cluster size 101)\n",
      "   1. \"Recorded just hours before an airplane crash would take her life, 1969: Siempre: En Vivo Desde Monterrey, Pt.1 captures Jenni Rivera's last concert, a show in Monterrey, Mexico on…\n",
      "   2. Hardcore and metalcore are most common in Budapest and Western Hungary, in towns like Győr, Csorna, Szombathely and Veszprém, but Eastern Hungary and Debrecen is getting into a mor…\n",
      "   3. My Lords, it has been held at first instance and in the Court of Appeal that Blake is not a fiduciary. This is not an issue before the House. But, as my noble and learned friend Lo…\n",
      "   4. On 27 August at 01:35 a U.S. Navy PBR and a patrol from the 1st Brigade, 1st Infantry Division ambushed a 15-20 man PAVN/VC unit attempting to cross the Saigon River 8 miles (13 km…\n",
      "   5. On 9 May 1966 Colonel Cecil F. Hunnicutt became senior adviser to the 25th Division. His immediate superior, Colonel Arndt Mueller, the III Corps deputy senior adviser, ordered him…\n",
      "\n",
      "▶ Rank 2 – token 383 ' The' (cluster size 46)\n",
      "   1. The Presbytery of Newton was created in October 1817 during a convention of the Synod of New York and New Jersey in October 1817.: p.13 It was decided to divide the northern territ…\n",
      "   2. In early 1972, a local resident observed the bones of a mastodon along the creekside and reported the finding to the Glenn Black Laboratory of Archaeology at Indiana University Blo…\n",
      "   3. IRIS is the name for France's unit of division of geographical regions for the purposes of taking a census. In order to prepare for the dissemination of the 1999 French population …\n",
      "   4. Carson described the Nexus energy ribbon as the true villain of the film; ILM was responsible for conceiving what the ribbon would look like with no natural frame of reference.: 81…\n",
      "   5. The story of Maharana Pratap starts with the narrator Ramanbhai who narrates the epic of Maharana Pratap and initiates the history of the Mewar kingdom. When Vallabhi (Gujarat) was…\n",
      "\n",
      "▶ Rank 3 – token 198 '\\\\n' (cluster size 38)\n",
      "   1. \"Heavy in Your Arms\" received widespread critical acclaim. Nima Baniamer of Contactmusic.com gave the song five stars writing, \"With lingering vocals and an eerie melody, this trac…\n",
      "   2. The music video revolves around Kiyoko encountering and seducing a former girlfriend at a house party that the latter's new boyfriend is also attending. Kiyoko's love interest init…\n",
      "   3. In January 2020, concerns were raised about the potential impact of the COVID-19 pandemic on athletes and visitors to the Summer Olympic Games. Tokyo organizers and the Internation…\n",
      "   4. The predecessors of the Denver Mint were the men of Clark, Gruber and Company. During the Pikes Peak Gold Rush, they coined gold dust brought from the gold fields by the miners. In…\n",
      "   5. After returning home, a friend offered Coward a job as an outlaw gunfighter at the Old West amusement park, Ghost Town in the Sky in Maggie Valley. While performing at the park wit…\n",
      "\n"
     ]
    }
   ],
   "source": [
    "print(\"\\nFirst five paragraphs in each of the TOP-3 predicted tokens:\\n\")\n",
    "for rank, (size, nid) in enumerate(sizes_and_ids[:3], 1):\n",
    "    tok_str = tokenizer.decode([nid]).replace(\"\\n\", \"\\\\n\")\n",
    "    print(f\"▶ Rank {rank} – token {nid} {tok_str!r} (cluster size {size})\")\n",
    "    for i, para in enumerate(paragraphs_by_next[nid][:5], 1):\n",
    "        short = para.strip().replace(\"\\n\", \" \")[:180] + \"…\"\n",
    "        print(f\"   {i}. {short}\")\n",
    "    print()\n"
   ]
  },
  {
   "cell_type": "markdown",
   "metadata": {
    "id": "0G4_ssp605yX"
   },
   "source": [
    "# Plots\n"
   ]
  },
  {
   "cell_type": "code",
   "execution_count": 32,
   "metadata": {
    "colab": {
     "base_uri": "https://localhost:8080/",
     "height": 564
    },
    "id": "2QW5CRm6ouht",
    "outputId": "75cf8997-c7e7-4fce-a2d2-dcc44e25811b"
   },
   "outputs": [
    {
     "data": {
      "image/png": "[encoded data removed]",
      "text/plain": [
       "<Figure size 1000x600 with 1 Axes>"
      ]
     },
     "metadata": {},
     "output_type": "display_data"
    }
   ],
   "source": [
    "import matplotlib.pyplot as plt\n",
    "from scipy.stats import linregress\n",
    "\n",
    "plt.figure(figsize=(10, 6))\n",
    "plt.plot(range(len(freqs)), freqs, marker='o')\n",
    "plt.title(\"Token count per cluster – GPT-2 next-token grouping\")\n",
    "plt.xlabel(\"Cluster index (sorted)\")\n",
    "plt.ylabel(\"Count of current-tokens\")\n",
    "plt.grid(True)\n",
    "plt.show()"
   ]
  },
  {
   "cell_type": "code",
   "execution_count": 33,
   "metadata": {
    "id": "CmaXzsPBX7rm"
   },
   "outputs": [],
   "source": [
    "import matplotlib.pyplot as plt\n",
    "from scipy.stats import linregress\n",
    "\n",
    "ranks = np.arange(1, len(freqs)+1)\n",
    "log_r, log_f = np.log10(ranks), np.log10(freqs)\n",
    "slope, intercept, r_val, p_val, _ = linregress(log_r, log_f)\n",
    "y_pred = slope * log_r + intercept"
   ]
  },
  {
   "cell_type": "code",
   "execution_count": 34,
   "metadata": {
    "colab": {
     "base_uri": "https://localhost:8080/",
     "height": 668
    },
    "id": "EY24jPkJX9dp",
    "outputId": "63a6f21f-78b4-45d8-a387-09f3fdc5e64d"
   },
   "outputs": [
    {
     "data": {
      "image/png": "[encoded data removed]",
      "text/plain": [
       "<Figure size 1000x600 with 1 Axes>"
      ]
     },
     "metadata": {},
     "output_type": "display_data"
    },
    {
     "name": "stdout",
     "output_type": "stream",
     "text": [
      "\n",
      "Regression Results:\n",
      "   - Slope: -0.7285\n",
      "   - Intercept: 1.5068\n",
      "   - R-squared: 0.8106\n",
      "   - P-value: 1.5220e-74\n"
     ]
    }
   ],
   "source": [
    "plt.figure(figsize=(10, 6))\n",
    "plt.scatter(log_r, log_f, alpha=0.8, label=\"Data\")\n",
    "plt.plot(log_r, y_pred, 'r-', label=f'Fit (slope={slope:.2f})')\n",
    "plt.title(\"Log-Log Plot – cluster sizes by predicted next token\")\n",
    "plt.xlabel(\"Log10(Rank)\")\n",
    "plt.ylabel(\"Log10(Cluster size)\")\n",
    "plt.grid(True, which=\"both\", ls=\"-\", alpha=0.2)\n",
    "plt.legend()\n",
    "\n",
    "# annotate regression stats\n",
    "txt_x = log_r.min() + (log_r.max() - log_r.min())*0.02\n",
    "txt_y = log_f.min() + (log_f.max() - log_f.min())*0.02\n",
    "plt.text(txt_x, txt_y,\n",
    "         f\"Slope: {slope:.4f}\\nIntercept: {intercept:.4f}\\n\"\n",
    "         f\"$R^2$: {r_val**2:.4f}\\nP-value: {p_val:.4e}\",\n",
    "         fontsize=12, bbox=dict(facecolor='white', alpha=0.5))\n",
    "plt.show()\n",
    "\n",
    "print(\"\\nRegression Results:\")\n",
    "print(f\"   - Slope: {slope:.4f}\")\n",
    "print(f\"   - Intercept: {intercept:.4f}\")\n",
    "print(f\"   - R-squared: {r_val**2:.4f}\")\n",
    "print(f\"   - P-value: {p_val:.4e}\")\n"
   ]
  }
 ],
 "metadata": {
  "accelerator": "GPU",
  "colab": {
   "gpuType": "A100",
   "machine_shape": "hm",
   "provenance": []
  },
  "kernelspec": {
   "display_name": "Python 3 (ipykernel)",
   "language": "python",
   "name": "python3"
  },
  "language_info": {
   "codemirror_mode": {
    "name": "ipython",
    "version": 3
   },
   "file_extension": ".py",
   "mimetype": "text/x-python",
   "name": "python",
   "nbconvert_exporter": "python",
   "pygments_lexer": "ipython3",
   "version": "3.9.13"
  }
 },
 "nbformat": 4,
 "nbformat_minor": 1
}
